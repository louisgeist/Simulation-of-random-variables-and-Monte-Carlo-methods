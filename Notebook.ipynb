{
  "nbformat": 4,
  "nbformat_minor": 0,
  "metadata": {
    "colab": {
      "provenance": []
    },
    "kernelspec": {
      "name": "python3",
      "display_name": "Python 3"
    },
    "language_info": {
      "name": "python"
    }
  },
  "cells": [
    {
      "cell_type": "markdown",
      "source": [
        "\n",
        "# **Introduction:**\n",
        "\n",
        "Le hasard est l'élément déclencheur d'un évènement dont aucune cause connue n'explique la réalisation. La notion de hasard s'oppose donc au déterminisme, source de nombreux débats scientifiques et philosophiques.\n",
        "\n",
        "Le premier objectif de notre projet est de générer numériquement une suite « aléatoire » de nombres, c'est à dire une suite de nombres \"tirés au hasard\". La définition formelle (mathématique) d'une suite aléatoire est encore débattue de nos jours et l'existence même de telles suites ne fait pas l'unanimité. Par exemple, Emile Borel émet un paradoxe sur la définition du hasard mathématique : le fait de définir une suite aléatoire comme une suite n’ayant aucune propriété particulière revient à donner à cette suite une propriété (celle de ne pas en avoir) la rendant non aléatoire. Nous ne prétendons donc pas générer des suites de nombres parfaitement aléatoires. Notre but est de générer des suites de nombres dont la structure est très difficilement identifiable et ne possédant aucune régularité, on parle de suites de nombres *pseudo-aléatoires*. Dans un second temps, nous utilisons ces suites de nombres *pseudo-aléatoires* pour simuler des lois de variables aléatoires usuelles. Enfin, nous utilisons ces simulations pour calculer des valeurs numériques approchées, par exemple d’intégrales ou de $\\pi$, avec des méthodes probabilistes, les méthodes de Monte Carlo. Nous comparons notamment ces méthodes probabilistes à des méthodes numériques itératives de calcul intégral comme la méthode des rectangles.  \n",
        "<br />\n",
        "\n",
        "\n",
        "\n",
        "\n",
        "\n",
        "Nous avons choisi de travailler sur ce sujet suite à la lecture d'un article sur le site de M. Dupré nommé *Simulation d’une loi statistique avec un algorithme d’optimisation $A^{*}$*. Nous nous sommes alors rendu compte que nous avions utilisé de nombreuses fois sur Python des fonctions de génération de lois de probabilités (avec les libraires *scipy* ou *numpy* par exemple) sans même savoir sur quoi reposaient ces fonctions. Nous étions curieux et voulions en apprendre plus sur ces méthodes de génération, étant donné que nous serons amenés à réutiliser de nombreuses fois ces fonctions au cours de notre scolarité à l'ENSAE. Ainsi, nous avons décidé de travailler sur les algorithmes de génération de lois de probabilités et sur les méthodes de Monte Carlo.\n"
      ],
      "metadata": {
        "id": "cO-hP95a6qFe"
      }
    },
    {
      "cell_type": "markdown",
      "source": [
        "### Import des librairies"
      ],
      "metadata": {
        "id": "21ruuhKRDl8I"
      }
    },
    {
      "cell_type": "code",
      "source": [
        "from matplotlib.pyplot import *\n",
        "import math as mat\n",
        "import numpy as np\n",
        "from numpy import polynomial\n",
        "from numpy.random import *\n",
        "from scipy.misc import *\n",
        "from scipy.stats import kstest\n",
        "from scipy.special import factorial\n",
        "from scipy import optimize\n",
        "from scipy import stats"
      ],
      "metadata": {
        "id": "TNhOk9ldpF8d"
      },
      "execution_count": null,
      "outputs": []
    },
    {
      "cell_type": "markdown",
      "source": [
        "# **$\\rm I)$ Générateurs pseudo-aléatoires**\n",
        "\n",
        "\n",
        "Un générateur pseudo-aléatoire est un algorithme qui à partir d'un certain nombre (la graine) et d'un entier $n$, génère une suite de nombres de longueur $n$ vérifiant certaines propriétés statistiques rendant sa structure difficilement identifiable. La suite produite est déterministe puisqu'elle est générée par un algorithme : à longueur et graine fixées, l'algorithme génèrera toujours la même suite de nombres. On parle donc de *générateurs pseudo-aléatoires*.\n",
        "\n",
        "La qualité d'une suite pseudo-aléatoire dépend de ses propriétés statistiques, on évalue donc cette suite avec des théorèmes et des outils statistiques comme par exemple la loi de grands nombres ou les tests d'adéquation.\n",
        "\n",
        "Dans cette première partie, nous allons générer de nombres pseudo-aléatoires entre 0 et 1. Les générateurs uniformes nous permettent de construire ensuite tous les générateurs de loi de probabilités usuelles. Nous allons illustrer à l'aide de différents générateurs pseudo-aléatoires les biais et limites empêchant la génération d'une suite parfaitement aléatoire. \n",
        "\n",
        "Les algorithmes de géneration que nous avons implémenté ont une même structure:\n",
        "\n",
        "*   ils nécessitent un nombre initial nommé la graine.\n",
        "*   les nombres qui suivent sont définis par une relation de récurrence,  $ x_{k+1} = f(x_{k})$.\n"
      ],
      "metadata": {
        "id": "vGi3ACH6nLyO"
      }
    },
    {
      "cell_type": "markdown",
      "source": [
        "## a) Méthodes d'évaluation d'un algorithme\n",
        "\n",
        "Pour évaluer un algorithme, nous utilisons certaines propriètés statistiques de la loi uniforme sur $[0;1]$. La première est la loi des grands nombres, la moyenne empirique doit tendre vers $\\frac{1}{2}$. Ensuite, la fonction de répartiton empirique doit être \"proche\" de la fonction de répartition théorique: c'est le test de Kolmogorov Smirnov. Enfin, la liste des nombres générés ne doit pas  comporter de périodes, c'est à dire une certaine succesion de nombres qui se répèteraient. Pour détecter les périodes/cycles, nous  utilisons l'algorithme de Floyd (aussi nommé algorithme du lièvre et de la tortue)."
      ],
      "metadata": {
        "id": "C2nC_CVTIPhA"
      }
    },
    {
      "cell_type": "markdown",
      "source": [
        "**Loi forte des grands nombres**"
      ],
      "metadata": {
        "id": "ceM-ggjgfMQa"
      }
    },
    {
      "cell_type": "code",
      "source": [
        "def LGN(X):\n",
        "  return(abs(np.mean(X)-0.5))"
      ],
      "metadata": {
        "id": "QA879mBrIV4C"
      },
      "execution_count": null,
      "outputs": []
    },
    {
      "cell_type": "markdown",
      "source": [
        "**Test de Kolmogorov Smirnov**\n",
        "\n",
        "Nous implémentons le test de Kolmogorov Smirnov qui est un test statistique permettant de tester si un échantillon suit une certaine loi de probabilité $\\mathbb{P}$. Ce test est valable si la fonction de répartition $F_{ref}$ associée à $P$ est continue. Ce test va servir dans un premier temps à vérifier que notre suite de nombres pseudo-aléatoires suit bien une loi uniforme sur $[0;1]$. Nous l'utiliserons également ensuite dans la partie $II)$ pour vérifier nos simulations de variables aléatoires.\n",
        "\n",
        "Ce test repose sur deux théorèmes, le théorème de Glivenko Cantelli et le théorème de Kolmorov. Soit $(X_{n})_{n}$ une suite de variables aléatoires *iid* de f.d.r. $F$ ($F$ est inconnue et on cherche à déterminer si $F=F_{ref}$. On note $F_{n}$ la fonction de répartition empirique, le théorème de Glivenko Cantelli nous assure que $D_{n} :=||F_{n} -F||_{∞}$ converge presque sûrement vers $0$. $F_{n}$ est donc un estimateur satisfaisant de $F$. De plus, le théorème de Kolmogorov assure que si $F$ est continue alors la loi de $D_{n}$ ne depend pas de $F$. Ce résultat  est très pratique puisqu'il rend la variable $D_{n}$ universelle, un test basé sur $D_{n}$ sera valable pour n'importe quelle variable aléatoire dont la fonction de  répartition est continue. La loi $D_{n}$ est tabulée, on note $d_{n,\\alpha}$ son quantile d'ordre $\\alpha$. Le test de Kolmogorov Smirnov de niveau $\\alpha$, sous l'hypothèse nulle $F=F_{ref}$, est :\n",
        "\n",
        "\n",
        "$\\phi:=1_{D_{n}>d_{n,1-\\alpha}}$ avec cette fois ci $D_{n} :=||F_{n} -F_{ref}||_{∞}$, $F$ étant inconnue.  \n",
        "  \n",
        "\n",
        "\n",
        "\n",
        "\n",
        "  Le calcul pratique de $D_{n}$ est facilité par la formule suivante:\n",
        "$D_n = \\max_{1 \\leq i \\leq n} \\max \\left\\{ \\frac{i}{n} - F(X_{(i)}), \\, F(X_{(i)}) - \\frac{i-1}{n}\\right\\}.$ où les $(X_{(i)})_{i}$ sont supposés ordonnés."
      ],
      "metadata": {
        "id": "8qYuDltpNh1h"
      }
    },
    {
      "cell_type": "code",
      "source": [
        "#on définit une fonction qui permet de calculer Dn:\n",
        "def Dn(X,Fref):\n",
        "    n = len(X)\n",
        "    Y = np.sort(X) #on trie puisque la formule nécessite une  suite ordonnée\n",
        "    return max([max(i/float(n)-Fref(Y[i-1]),Fref(Y[i-1])-(i-1)/float(n)) for i in range(1,n+1)]) #formule pratique\n",
        "\n",
        "#test de Kolmogorov\n",
        "\n",
        "#les quantiles sont tabulés, on importe la table des quantiles avec scipy.stats:\n",
        "from scipy.stats import ksone\n",
        "\n",
        "def dn_value(alpha,n):\n",
        "    return ksone.ppf(1-alpha, n) #quantile d'ordre 1-alpha pour un certain n\n",
        "\n",
        "\n",
        "def test_kolmo(X,Fref,alpha):\n",
        "    if Dn(X,Fref)>dn_value(alpha,len(X)):\n",
        "      return \"l'échantillon ne suit pas la loi de réfèrence\"\n",
        "    return \"l'échantillon suit la loi de réfèrence\""
      ],
      "metadata": {
        "id": "aE-LfRzDXuGj"
      },
      "execution_count": null,
      "outputs": []
    },
    {
      "cell_type": "markdown",
      "source": [
        "On illustre graphiquement le test de Kolmogorov Smirnov en testant un générateur aléatoire que nous étudierons plus loin, la fonction *numpy.random.rand( )*. La condition $D_{n} > d_{n,1-\\alpha}$ se réecrit $F(x)-d_{n,1-\\alpha}<F_{n}(x) < F(x) + d_{n,1-\\alpha}$ pour tout $x \\in \\mathbb{R}$."
      ],
      "metadata": {
        "id": "cFddrVaIYorQ"
      }
    },
    {
      "cell_type": "code",
      "source": [
        "n = 20\n",
        "d = dn_value(0.05,n)\n",
        "\n",
        "#fdr\n",
        "xx = np.linspace(0,1,101)\n",
        "plot(xx,xx,'b')\n",
        "\n",
        "#borne sup de kolmogorov\n",
        "plot(xx,xx+d,'g')\n",
        " \n",
        "\n",
        "#on trace la fonction de répartition empirique\n",
        "U = rand(n)\n",
        "X = np.sort(U)\n",
        "plot([0,X[0]],[0,0],'r-')\n",
        "for i in range(1,n):\n",
        "    plot([X[i-1],X[i]],[i/float(n),i/float(n)],'r-') \n",
        "plot([X[-1],1],[1,1],'r-')\n",
        "\n",
        "#pour bien légender on trace ensuite la borne inf de kolmogorov\n",
        "plot(xx,xx-d,'g')\n",
        "\n",
        "legend([\"fdr\", \"bornes kolmogorov\",\"fdr emprique\"])\n",
        "show()\n",
        "\n",
        "#si la fdr empirique  est bien entre les deux droites vertes on peut affirmer que F=Fref.\n",
        "print(\"test de kolmogorov smirnov:\",test_kolmo(U, lambda x:x,0.05))"
      ],
      "metadata": {
        "colab": {
          "base_uri": "https://localhost:8080/",
          "height": 282
        },
        "id": "lCY4_GHYYmd9",
        "outputId": "2d191e69-b04d-4b20-da29-5921b5a77d54"
      },
      "execution_count": null,
      "outputs": [
        {
          "output_type": "display_data",
          "data": {
            "text/plain": [
              "<Figure size 432x288 with 1 Axes>"
            ],
            "image/png": "[encoded data removed]"
          },
          "metadata": {
            "needs_background": "light"
          }
        },
        {
          "output_type": "stream",
          "name": "stdout",
          "text": [
            "test de kolmogorov smirnov: l'échantillon ne suit pas la loi de réfèrence\n"
          ]
        }
      ]
    },
    {
      "cell_type": "markdown",
      "source": [
        "**Algorithme de Floyd**  \n",
        "\n",
        "L'algorithme de Floyd (ou du lièvre et de la tortue) permet de détecter des cycles dans une liste de nombres $(x_{k})_{k}$. Cet algorithme repose sur le fait que si la liste admet un cycle, il existe un indice $j$ tel que $x_{j} = x_{2j}$. On parcourt donc la liste à deux vitesses, la tortue à une vitesse $1$ et le lièvre à une vitesse $2$. Ainsi le lièvre va commencer par parcourir $x_{2},x_{4}, x_{6}, x_{8}$ alors que la tortue parcourira $x_{1}, x_{2}, x_{3}, x_{4}$. Comparer le lièvre et la tortue nous permet de comparer les couples $(x_{k},x_{2k})$ et donc de trouver le cycle."
      ],
      "metadata": {
        "id": "w7ldulgDT8fj"
      }
    },
    {
      "cell_type": "code",
      "source": [
        "def floyd(f,x0): \n",
        "  m=0\n",
        "  tortue = f(x0)\n",
        "  lievre = f(tortue)\n",
        "  #on cherche un cycle, ie on cherche xj = x2j\n",
        "  while tortue!=lievre and m<10**4: #on ajoute un nombre max d'itérations, 10**4, pour pas que l'algo tourne indéfiniment si il n'y as pas de cycles\n",
        "    m+=1\n",
        "    tortue = f(tortue) #vitesse 1\n",
        "    lievre = f(f(lievre)) #vitesse 2\n",
        "\n",
        "  if m == 10**4: \n",
        "    return \"pas de cycle trouvé\"\n",
        "  return \"présence d'un cycle\"\n"
      ],
      "metadata": {
        "id": "8HUp-szdXw3J"
      },
      "execution_count": null,
      "outputs": []
    },
    {
      "cell_type": "markdown",
      "source": [
        "## a) Premier génerateur historique: l'algortihme de Von Neuman.\n",
        "\n",
        "Cet algorithme est aussi nommé algorithme des carrés médians. Soit un nombre entier initial $x_{0}$ à $n$ chiffres (la graine). On définit par récurrence $x_{k+1}$ comme les $n$ chiffres médians de $x_{k}^2$. Par exemple si $x_{0}=1111, x_{0}^{2}=1234321$ et donc $x_{1} = 3432$. Il faut qu'à chaque itération $x_{k}$ soit de longueur $2n$, si ce n'est pas le cas on ajoute des $0$ à la fin de $x_{k}$."
      ],
      "metadata": {
        "id": "4vbat1d96LUE"
      }
    },
    {
      "cell_type": "code",
      "source": [
        "#on définit la relation de récurrence entre x_k+1 et x_k\n",
        "\n",
        "def f_VNeuman(x):\n",
        "\n",
        "  n = len(x)\n",
        "  x = str(int(x)**2)\n",
        "  t = str(x)\n",
        "\n",
        "  while len(t)<2*n:\n",
        "    t = t + \"0\"\n",
        "  res = t[2:6]\n",
        "  return res\n"
      ],
      "metadata": {
        "id": "Kh5jfugiDHLk"
      },
      "execution_count": null,
      "outputs": []
    },
    {
      "cell_type": "code",
      "source": [
        "def Von_Neuman(x0,n): #x0 = nombre initial , n = longueur de la suite de nombre pseudo aléatoire souhaitée.\n",
        "  X = [x0]\n",
        "  for i in range(n):\n",
        "    X.append(f_VNeuman(X[-1]))\n",
        "  Y =  list(map(int, X))\n",
        "  return Y\n"
      ],
      "metadata": {
        "id": "XR-Xa_fl7qi9"
      },
      "execution_count": null,
      "outputs": []
    },
    {
      "cell_type": "code",
      "source": [
        "Y = Von_Neuman(\"1783\",10**4)\n",
        "R = [i/max(Y) for i in Y] #pour avoir des nombres entre 0 et 1\n",
        "hist(R, bins=np.linspace(0,1,50), density=True);\n",
        "plot([0,1],[1,1],'r') #densité théorique\n",
        "show()\n"
      ],
      "metadata": {
        "id": "7IP2mTVALkMw",
        "colab": {
          "base_uri": "https://localhost:8080/",
          "height": 265
        },
        "outputId": "74606d68-90eb-447e-9ebf-da1ad9870cf3"
      },
      "execution_count": null,
      "outputs": [
        {
          "output_type": "display_data",
          "data": {
            "text/plain": [
              "<Figure size 432x288 with 1 Axes>"
            ],
            "image/png": "[encoded data removed]"
          },
          "metadata": {
            "needs_background": "light"
          }
        }
      ]
    },
    {
      "cell_type": "markdown",
      "source": [
        "Etant donné l'histogramme, on peut supposer que cet algorithme comporte un cycle. Nous allons évaluer cet algorithme avec nos trois méthodes, on vérifiera notamment la présence d'un cycle."
      ],
      "metadata": {
        "id": "qVOt3g5BViXm"
      }
    },
    {
      "cell_type": "code",
      "source": [
        "print(LGN(R)) #l'algorithme passe le test de la loi des grands nombres\n",
        "print(floyd(f_VNeuman,\"1783\")) #il y a un cycle\n",
        "test_kolmo(R, lambda x:x,0.05)"
      ],
      "metadata": {
        "id": "D3KLJzDGTETo",
        "colab": {
          "base_uri": "https://localhost:8080/",
          "height": 70
        },
        "outputId": "37c8c8c0-5369-4fb5-8480-fb61b744d10b"
      },
      "execution_count": null,
      "outputs": [
        {
          "output_type": "stream",
          "name": "stdout",
          "text": [
            "0.001509585216009024\n",
            "présence d'un cycle\n"
          ]
        },
        {
          "output_type": "execute_result",
          "data": {
            "text/plain": [
              "\"l'échantillon ne suit pas la loi de réfèrence\""
            ],
            "application/vnd.google.colaboratory.intrinsic+json": {
              "type": "string"
            }
          },
          "metadata": {},
          "execution_count": 10
        }
      ]
    },
    {
      "cell_type": "markdown",
      "source": [
        "## c) Les génerateurs à congruence linéaire mixte\n",
        "\n",
        "Les génerateurs à congruence linéaire mixte sont des générateurs définis via une relation de récurrence du type $x_{k+1} = ax_{k} + b \\space \\space  mod[m]$; $\\space \\space x_{0}$ désigne la graine. Des théorèmes d'arithmétique donnent des formules pour $a,b,m$ et $x_{0}$ assurant  une bonne qualité pour le générateur. En particulier, ces générateurs sont cycliques et certains paramètres permettent d'obtenir un cycle très long. Nous admettons ces théorèmes et utilisons directement certains paramètres efficients. Par exemple, l'algorithme de Parker Miller utilise $x_{0} = 3, a = 69069, b= 0$  et $m = 2^{32}$."
      ],
      "metadata": {
        "id": "CTf5swxHtWsI"
      }
    },
    {
      "cell_type": "code",
      "source": [
        "def f_pmiller(x):\n",
        "  return (69069*x)%2**32\n",
        "\n",
        "def parker_miller(n):\n",
        "  X =[3]\n",
        "  for i in range(n):\n",
        "    X.append(f_pmiller(X[-1]))\n",
        "\n",
        "  return X"
      ],
      "metadata": {
        "id": "9FEjvXvlCIqL"
      },
      "execution_count": null,
      "outputs": []
    },
    {
      "cell_type": "code",
      "source": [
        "X = parker_miller(10**4)\n",
        "Y = [i/max(X) for i in X] #pour ramener sur l'intervalle [0;1]\n",
        "hist(Y, bins=np.linspace(0,1,50), density=True);\n",
        "plot([0,1],[1,1],'r') #densité théorique\n",
        "show() "
      ],
      "metadata": {
        "id": "2y9-ogQeCnym",
        "colab": {
          "base_uri": "https://localhost:8080/",
          "height": 265
        },
        "outputId": "484444e2-794b-4d2c-f63c-c7029f157b47"
      },
      "execution_count": null,
      "outputs": [
        {
          "output_type": "display_data",
          "data": {
            "text/plain": [
              "<Figure size 432x288 with 1 Axes>"
            ],
            "image/png": "[encoded data removed]"
          },
          "metadata": {
            "needs_background": "light"
          }
        }
      ]
    },
    {
      "cell_type": "code",
      "source": [
        "#on évalue l'algorithme:\n",
        "print(LGN(Y)) #l'algorithme passe le test de la loi des grands nombres\n",
        "print(floyd(f_pmiller,3)) #il y a un cycle, mais de longueur supérieure à 10**4, notre algorithme ne le trouve pas\n",
        "test_kolmo(Y, lambda x:x,0.05)"
      ],
      "metadata": {
        "colab": {
          "base_uri": "https://localhost:8080/",
          "height": 70
        },
        "id": "0Yqzmfduqe4h",
        "outputId": "d04e58e3-5e02-4ebb-ae33-5f5485bb4e01"
      },
      "execution_count": null,
      "outputs": [
        {
          "output_type": "stream",
          "name": "stdout",
          "text": [
            "0.0005399374236823573\n",
            "pas de cycle trouvé\n"
          ]
        },
        {
          "output_type": "execute_result",
          "data": {
            "text/plain": [
              "\"l'échantillon suit la loi de réfèrence\""
            ],
            "application/vnd.google.colaboratory.intrinsic+json": {
              "type": "string"
            }
          },
          "metadata": {},
          "execution_count": 13
        }
      ]
    },
    {
      "cell_type": "markdown",
      "source": [
        "## d) L'algorithme de Mersenne Twister et la fonction $rand()$ de Numpy.random.\n",
        "\n",
        "Cet algorithme fait partie de la famille des générateurs à congruence linéaire mixte. C'est un algorithme particulièrement performant, sa période est de $2^{19937}-1$ (le nombre de Mersenne à la puissance $199937$) et il est plus rapide que la plupart des générateurs. La fonction $rand()$ de Numpy.random génère une suite de nombres entre 0 et 1 avec l'algorithme de Mersenne Twister. Le choix de la graine au moment de l'éxecution se fait à partir du nombre de microsecondes de l'horloge de l'ordinateur. Ceci permet d'avoir de l'aléa dans le choix de la graine et ainsi, en lançant à deux instants différents la fonction, on obtient deux suites de nombres entre 0 et 1 indépendantes, donc deux variables aléatoires uniformes indépendantes."
      ],
      "metadata": {
        "id": "0pOAhc5btkyi"
      }
    },
    {
      "cell_type": "code",
      "source": [
        "rand()"
      ],
      "metadata": {
        "id": "DyVPZCQcouah",
        "colab": {
          "base_uri": "https://localhost:8080/"
        },
        "outputId": "5bb1dfcd-9cbb-4eb8-e071-5f7d60d202dd"
      },
      "execution_count": null,
      "outputs": [
        {
          "output_type": "execute_result",
          "data": {
            "text/plain": [
              "0.7693020583220664"
            ]
          },
          "metadata": {},
          "execution_count": 14
        }
      ]
    },
    {
      "cell_type": "code",
      "source": [
        "n=10**5\n",
        "X=rand(n)\n",
        "hist(X, bins = np.linspace(0,1,101), density = True) #densité empirique\n",
        "plot([0,1],[1,1],'r') #densité théorique\n",
        "show()\n",
        "\n",
        "print(LGN(X))\n",
        "print(floyd(f_pmiller,3)) #il y a un cycle, mais de longueur supérieure à 10**4, notre algorithme ne le trouve pas\n",
        "test_kolmo(Y, lambda x:x,0.05)"
      ],
      "metadata": {
        "id": "Mv05-HE7qomJ",
        "colab": {
          "base_uri": "https://localhost:8080/",
          "height": 318
        },
        "outputId": "055c7ab5-ed8e-4d36-b237-66594589f408"
      },
      "execution_count": null,
      "outputs": [
        {
          "output_type": "display_data",
          "data": {
            "text/plain": [
              "<Figure size 432x288 with 1 Axes>"
            ],
            "image/png": "[encoded data removed]"
          },
          "metadata": {
            "needs_background": "light"
          }
        },
        {
          "output_type": "stream",
          "name": "stdout",
          "text": [
            "0.0014488396605510379\n",
            "pas de cycle trouvé\n"
          ]
        },
        {
          "output_type": "execute_result",
          "data": {
            "text/plain": [
              "\"l'échantillon suit la loi de réfèrence\""
            ],
            "application/vnd.google.colaboratory.intrinsic+json": {
              "type": "string"
            }
          },
          "metadata": {},
          "execution_count": 15
        }
      ]
    },
    {
      "cell_type": "code",
      "source": [
        "#simulation de deux lois uniformes independantes\n",
        "\n",
        "U = rand(10**3)\n",
        "V = rand(10**3)\n",
        "\n",
        "#indépendance\n",
        "plot(U,V,'r.') #les variables semblent indépendantes étant donné le  nuage de points\n",
        "title(\"Nuage de points de (X,Y) pour se faire une idée d'une éventuelle liaison entre ces deux variables\")\n",
        "show()\n",
        "\n",
        "#test d'indépendance, H0 : les variables sont indépendantes\n",
        "print()\n",
        "print(\"Conclusion:\")\n",
        "if stats.spearmanr(U, V).pvalue > 0.05:\n",
        "  print(\"etant donnée la p-value, on peut affirmer que les variables sont independantes\")\n",
        "else:\n",
        "  print(\"etant donnée la p-value, nous rejetons l'hypothèse d'independance des variables\")"
      ],
      "metadata": {
        "id": "UNlMM9kUyIOL",
        "colab": {
          "base_uri": "https://localhost:8080/",
          "height": 333
        },
        "outputId": "cce27673-e60b-4042-ab2c-ab794cb0e63e"
      },
      "execution_count": null,
      "outputs": [
        {
          "output_type": "display_data",
          "data": {
            "text/plain": [
              "<Figure size 432x288 with 1 Axes>"
            ],
            "image/png": "[encoded data removed]"
          },
          "metadata": {
            "needs_background": "light"
          }
        },
        {
          "output_type": "stream",
          "name": "stdout",
          "text": [
            "\n",
            "Conclusion:\n",
            "etant donnée la p-value, on peut affirmer que les variables sont independantes\n"
          ]
        }
      ]
    },
    {
      "cell_type": "markdown",
      "source": [
        "# **$\\rm II)$  Simulation de variables aléatoires**\n",
        "\n",
        "A présent, nous allons simuler numériquement des variables aléatoires usuelles à partir des générateurs pseudo-aléatoires. Plusieurs méthodes démontrées mathématiquement nous garantissent que toutes les variables aléatoires réelles ou discrètes (à valeurs dans $\\mathbb{N}$ ) peuvent être générées à partir d'une loi uniforme, d'où l'intérêt de la génération de nombres pseudo-aléatoires entre $0$ et $1$. \n",
        "\n",
        "Le meilleur générateur (en temps de calculs et en qualité de génération) parmi ceux étudiés dans la première partie est celui donné par la fonction *numpy.random.rand()* (basé sur l'algorithme de Mersenne Twister). Nous allons donc utiliser ce générateur pour simuler une loi uniforme sur $[0;1]$. De plus, cet algorithme permet d'obtenir lois uniformes indépendantes, ceci est très utile pour la génération de certaines lois comme la loi gaussienne avec la méthode de Box Muller.\n"
      ],
      "metadata": {
        "id": "t3wW5vhoF2Ev"
      }
    },
    {
      "cell_type": "markdown",
      "source": [
        "## a) Méthode d'inversion de la fonction de répartition\n",
        "\n",
        "Soit $\\mathbb{P}$ une probabilité sur $\\mathbb{R}$ et $F$ la fonction de répartition associée. Pour tout $t \\in ]0;1[$ on définit $F^{-}(t):= \\inf \\left\\{ x \\in \\mathbb{R}, F(x)\\geq t \\right\\}$ \\\\\n",
        "\n",
        "\n",
        "**Théorème:** \n",
        "soit $U$ une variable aléatoire uniforme sur $[0;1]$, alors $F^{-}(U)$ suit la loi $\\mathbb{P}$.\n",
        "\n",
        "Ce résultat nous permet donc de simuler n'importe quelle variable aléatoire réelle (ou discrète puisque $\\mathbb{N} \\subset \\mathbb{R}$) à partir d'une loi uniforme. Cependant, le calcul de $F^{-}$ peut s'avérer particulièrement compliqué. $F^{-}$ est facilement calculable si $F$ est strictement croissante car dans ce cas $F$ est inversible et $F^{-}$ coïncide avec $F^{-1}$. $F^{-}$ est également facile à calculer si la loi est discrète."
      ],
      "metadata": {
        "id": "oqt3bRsF3jWb"
      }
    },
    {
      "cell_type": "markdown",
      "source": [
        "**Simulation de la loi exponentielle de paramètre $\\lambda > 0$:**\n",
        "\n",
        "La fonction de répartition d'une loi exponentielle est strictement croissante, on a donc une formule explicite pour $F^{-}$ donnée par $ x \\rightarrow -\\frac{log(1-x)}{\\lambda} $\n"
      ],
      "metadata": {
        "id": "9zg3jhC17oP3"
      }
    },
    {
      "cell_type": "code",
      "source": [
        "def simu_expo(l, n): # l=lambda ,  n = nombre de simulations\n",
        "    U = rand(n)\n",
        "    #on retourne F-(U)\n",
        "    return -(1/l)*np.log(U) # 1-U et U suivent la même loi donc on peut simplement mettre U"
      ],
      "metadata": {
        "id": "fc2_hzLr9TCV"
      },
      "execution_count": null,
      "outputs": []
    },
    {
      "cell_type": "code",
      "source": [
        "#simulation\n",
        "\n",
        "n=10**4\n",
        "xx=np.linspace(0,15,30)\n",
        "X = simu_expo(0.5,n) #exponentielle de paramètre 1/2\n",
        "hist(X, bins = np.linspace(0,15,101), density = True); #densité empirique\n",
        "plot(xx,0.5*np.exp(-0.5*xx) ,'r'); #densité théorique\n",
        "title(\"densité empirique et densité théorique\")\n",
        "show()\n",
        "\n",
        "\n",
        "#fonction de répartition::\n",
        "X = sorted(X) #renvoie une liste triée, nécessaire pour tracer la fonction de répartition empirique\n",
        "xx = np.linspace(0,max(X),30)\n",
        "plot(X,np.linspace(0,1,n),'bo') #fonction de répartition empirique\n",
        "plot(xx,1-np.exp(-xx/2),'r') # fonction de réparition théorique\n",
        "title(\"f.d.r empirique (bleu) et théorique (rouge)\")\n",
        "show()\n",
        "\n",
        "#test de kolmogorov pour tester notre simulation:\n",
        "test_kolmo(X,lambda x:1-np.exp(-0.5*x), 0.05) \n"
      ],
      "metadata": {
        "id": "bhm1ZWzq9cI0",
        "colab": {
          "base_uri": "https://localhost:8080/",
          "height": 563
        },
        "outputId": "7ed9fdde-59d6-4d75-d80d-a7b1f51dcc1a"
      },
      "execution_count": null,
      "outputs": [
        {
          "output_type": "display_data",
          "data": {
            "text/plain": [
              "<Figure size 432x288 with 1 Axes>"
            ],
            "image/png": "[encoded data removed]"
          },
          "metadata": {
            "needs_background": "light"
          }
        },
        {
          "output_type": "display_data",
          "data": {
            "text/plain": [
              "<Figure size 432x288 with 1 Axes>"
            ],
            "image/png": "[encoded data removed]"
          },
          "metadata": {
            "needs_background": "light"
          }
        },
        {
          "output_type": "execute_result",
          "data": {
            "text/plain": [
              "\"l'échantillon suit la loi de réfèrence\""
            ],
            "application/vnd.google.colaboratory.intrinsic+json": {
              "type": "string"
            }
          },
          "metadata": {},
          "execution_count": 18
        }
      ]
    },
    {
      "cell_type": "markdown",
      "source": [
        "**Simulation de la loi de Cauchy de paramètres $a> 0$ et $x_{0} \\in \\mathbb{R}$:**\n",
        "\n",
        "Comme pour la loi exponentielle la fonction de répartition est strictement croissante, on a donc une formule explicite pour $F^{-}$, $F^{-}: x \\rightarrow a \\times tan(\\Pi(x-0.5)) +x_{0} $\n"
      ],
      "metadata": {
        "id": "DLQnfNlxEGIe"
      }
    },
    {
      "cell_type": "code",
      "source": [
        "def simulation_cauchy(n,a,x0): #n = nombre de simulations\n",
        "    U= rand(n)\n",
        "    X = x0 + a*np.tan(np.pi*(U-1/2)); #F-(U)\n",
        "    return(X)\n",
        "\n",
        "n=10**5\n",
        "Y = simulation_cauchy(n,2,1) #a=2, x0= 1\n",
        "xx = np.linspace(-15,15,201)\n",
        "hist(Y, bins=xx,density=True); #densité empirique\n",
        "plot(xx,1/(np.pi*2*(1+((xx-1)/2)**2)),'r') #densité théorique\n",
        "show()\n"
      ],
      "metadata": {
        "id": "ijzJ6nuzCaKu",
        "colab": {
          "base_uri": "https://localhost:8080/",
          "height": 265
        },
        "outputId": "0bf29d98-6127-4576-8e2e-3595f5c0e316"
      },
      "execution_count": null,
      "outputs": [
        {
          "output_type": "display_data",
          "data": {
            "text/plain": [
              "<Figure size 432x288 with 1 Axes>"
            ],
            "image/png": "[encoded data removed]"
          },
          "metadata": {
            "needs_background": "light"
          }
        }
      ]
    },
    {
      "cell_type": "markdown",
      "source": [
        "<br />\n",
        "\n",
        "Dans le **cas discret**, $F^{-}$ est aussi facile à calculer puisque la fontion de répartion $F$ est constante par morceaux et continue à droite, $F = \\sum_{i}  q_{i} \\mathbb{1}_{[x_{i},x_{i+1}[}$  avec $q_{i} = \\sum_{\\mathbb{1} \\leq j \\leq i} p_{j} $. Les valeurs prises par $F^{-}$ sont donc $ \\left\\{x_{i}, i \\in I\\right\\}$ avec $I$ dénombrable. Par exemple, voyons comment simuler une loi de Bernoulli.\n",
        "  \n",
        "\n",
        "\n",
        "**Simulation d'une loi de Bernoulli de paramètre $p \\in ]0;1[$:**\n",
        "\n",
        "Pour une Bernoulli de paramètre $p$, on a:\n",
        "\n",
        "Pour tout $t \\leq p $, $F^{-}(t) = 0$ et pour tout $t \\geq p $, $F^{-}(t) = 1$."
      ],
      "metadata": {
        "id": "6J35ofGcpnYh"
      }
    },
    {
      "cell_type": "code",
      "source": [
        "def simu_bernoulli(p,n):\n",
        "  U = rand(n)\n",
        "  X = 1*(U<p)\n",
        "  return X"
      ],
      "metadata": {
        "id": "qkvFAk941HeT"
      },
      "execution_count": null,
      "outputs": []
    },
    {
      "cell_type": "code",
      "source": [
        "#simulation\n",
        "X = simu_bernoulli(0.7,10**4) # p = 0.7\n",
        "hist(X, bins = np.linspace(0,1,20), density = True); \n",
        "print(np.mean(X)) #on vérifie que l'espérance est bien de 0.7"
      ],
      "metadata": {
        "colab": {
          "base_uri": "https://localhost:8080/",
          "height": 285
        },
        "id": "2VQxL-Fi1K6K",
        "outputId": "eee0d447-19ba-43d9-bdab-13878726d1a3"
      },
      "execution_count": null,
      "outputs": [
        {
          "output_type": "stream",
          "name": "stdout",
          "text": [
            "0.7065\n"
          ]
        },
        {
          "output_type": "display_data",
          "data": {
            "text/plain": [
              "<Figure size 432x288 with 1 Axes>"
            ],
            "image/png": "[encoded data removed]"
          },
          "metadata": {
            "needs_background": "light"
          }
        }
      ]
    },
    {
      "cell_type": "markdown",
      "source": [
        "**Simulation d'une loi de Poisson de paramètre $\\lambda >0$:**\n",
        "\n",
        "Dans un premier temps, nous allons calculer $F$ puis déduire $F^{-}$ à partir de $F$. Comme une loi de Poisson donne une masse strictement positive à tout $n$ entier naturel, nous ne pouvons pas contruire $F$ complètement. Cependant, l'inégalité de Markov nous assure que $\\mathbb{P}(X>10\\lambda) < 1/10$. La probabilité d'être dix fois supérieure à $\\lambda$ est inférieure à 0.1, nous choississons donc de ne construire $F$ que sur $\\left\\{0,...,10\\lambda \\right\\}$."
      ],
      "metadata": {
        "id": "cjblUgar0trp"
      }
    },
    {
      "cell_type": "code",
      "source": [
        "def simu_poisson(l, n):\n",
        "  X = np.zeros(n)\n",
        "\n",
        "  #on construit F sur {0,..,10*lambda}\n",
        "  s = 10*l\n",
        "  #on commence par construire la fonction de masse en attribuant sa masse à chaque entier naturel inférieur à 10*lambda\n",
        "  T = np.zeros(s) \n",
        "  for i in range(s):\n",
        "    T[i] = (np.exp(-l) * l**i)/factorial(i)\n",
        "\n",
        "  #on obtient F avec la somme cumulée de la fonction de masse\n",
        "  C = np.cumsum(T)\n",
        "  np.append(C,1) #on ajoute 1 puisqu'une fonction de réparition doit tendre vers 1 en l'infini.\n",
        "\n",
        "  #on déduit F- de F (par définition de F-) et on l'applique à une uniforme (rand())\n",
        "  for i in range(n):\n",
        "    X[i] = np.where(rand() < C)[0][0]\n",
        "  return X\n",
        "\n",
        "l=3\n",
        "X = simu_poisson(l,10**4)\n",
        "xx = np.linspace(0,10*l,10*l+1)\n",
        "hist(X, bins=xx, density = True); #fonction de masse empirique\n",
        "plot(xx, (np.exp(-l)*l**xx)/factorial(xx), 'ro') #fonction de masse théorique"
      ],
      "metadata": {
        "colab": {
          "base_uri": "https://localhost:8080/",
          "height": 282
        },
        "id": "RlIumNxHhu7c",
        "outputId": "8d5dee04-c117-4d9a-c5bd-a6b4ab1c61e1"
      },
      "execution_count": null,
      "outputs": [
        {
          "output_type": "execute_result",
          "data": {
            "text/plain": [
              "[<matplotlib.lines.Line2D at 0x7f8ba9d3cc50>]"
            ]
          },
          "metadata": {},
          "execution_count": 22
        },
        {
          "output_type": "display_data",
          "data": {
            "text/plain": [
              "<Figure size 432x288 with 1 Axes>"
            ],
            "image/png": "[encoded data removed]"
          },
          "metadata": {
            "needs_background": "light"
          }
        }
      ]
    },
    {
      "cell_type": "markdown",
      "source": [
        "**Simulation d'une loi binomiale de paramètre $p \\in ]0;1[$ et $m \\in \\mathbb{N}$:**\n",
        "\n",
        "On utilise le fait qu'une loi binomiale de paramètre $(m,p)$ est égale en distribution à la somme de $m$ variables de Bernoulli de paramètre $p$ indépendantes. La fonction $rand()$ nous permet de générer des variables uniformes indépendantes,  nous pouvons donc également générer des variables de Bernoulli indépendantes."
      ],
      "metadata": {
        "id": "k1SapSGLakwl"
      }
    },
    {
      "cell_type": "code",
      "source": [
        "def simu_binomiale(m,p,n):\n",
        "  M = np.zeros((m,n))\n",
        "\n",
        "  for i in range(m):\n",
        "    M[i,:] = simu_bernoulli(p,n)\n",
        "\n",
        "  return np.sum(M,axis=0) #on somme les Bernoulli indépendantes  pour obtenir des Binomiales\n",
        "\n",
        "m = 50\n",
        "p = 0.4\n",
        "n = 10**5\n",
        "\n",
        "X = simu_binomiale(m,p,n)\n",
        "xx = np.linspace(0,m,m+1)\n",
        "hist(X, bins=xx, density=True);#fonction de masse empirique\n",
        "plot(xx, factorial(m)/(factorial(xx)*factorial(m-xx))*p**xx*(1-p)**(m-xx),'ro'); #fonction de masse théorique\n",
        "\n"
      ],
      "metadata": {
        "colab": {
          "base_uri": "https://localhost:8080/",
          "height": 269
        },
        "id": "-PnNKUTrASrw",
        "outputId": "309dc8ab-9373-454b-b406-482931d9e980"
      },
      "execution_count": null,
      "outputs": [
        {
          "output_type": "display_data",
          "data": {
            "text/plain": [
              "<Figure size 432x288 with 1 Axes>"
            ],
            "image/png": "[encoded data removed]"
          },
          "metadata": {
            "needs_background": "light"
          }
        }
      ]
    },
    {
      "cell_type": "markdown",
      "source": [
        "## b) Méthode du rejet\n",
        "\n",
        "La méthode du rejet permet de simuler des lois admettant une densité par rapport à la mesure de Lebesgue. Cette méthode nécessite également de disposer d'une loi auxiliaire admettant aussi une densité par rapport à la mesure de Lebesgue et qui vérifie certaines propriètés vis à vis de notre loi d'intérêt.\n",
        "L'idée est qu'on sait simuler facilement la loi auxiliaire et on se sert de cette loi pour simuler notre loi d'intérêt.  \n",
        "\n",
        "Formellement, supposons qu'on souhaite générer une variable $X$ de loi $\\mathbb{P}$ admettant une densité $f$ par rapport à la mesure de Lebesgue et que l'on dispose d'une variable $Y$ de loi $\\mathbb{Q}$ aussi continue par rapport à la mesure de Lebesgue, de densite $g$ telle que $\\frac{f}{g}$ soit bornée par une constante $c$  ($*$). On pose $ \\rho = \\frac{f}{g}$. Soient $(U_{k})_{k}$ une suite de variables i.i.d. uniformes  sur $[0;1]$ et $(V_{k})_{k}$ une suite de variables i.i.d. de loi $\\mathbb{Q}$. <br />\n",
        "Alors, $K:= \\inf \\left\\{ k \\geq 1, U_{k} \\leq \\frac{\\rho(V_{k})}{c} \\right\\}$ suit une loi géométrique de paramètre $\\frac{1}{c}$ et $V_{K}$ suit la loi $\\mathbb{P}$ (la loi que l'on souhaite simuler).\n"
      ],
      "metadata": {
        "id": "1FnGLivpsd1D"
      }
    },
    {
      "cell_type": "code",
      "source": [
        "def simu_rejet(p,simu,n): \n",
        "  X = np.zeros(n)\n",
        "  c = -optimize.fmin(lambda x: -p(x), 0, full_output=True)[1]; \n",
        "\n",
        "  for i in range(n):\n",
        "    U = 2\n",
        "    Y = 0\n",
        "\n",
        "    while U > p(Y)/c: \n",
        "        U = rand();\n",
        "        Y = simu(1);\n",
        "    X[i] = Y\n",
        "\n",
        "  return X"
      ],
      "metadata": {
        "id": "rb1Jiw-I91Nv"
      },
      "execution_count": null,
      "outputs": []
    },
    {
      "cell_type": "markdown",
      "source": [
        "**Simulation d'une loi gaussienne à partir d'une loi de Cauchy avec la méthode du rejet:**\n",
        "\n",
        "Nous savons simulé une loi de Cauchy grâce à la méthode d'inversion de la fonction de répartiton. La méthode d'inversion de la fonction de répartition est difficilement applicable à une loi gaussienne puisque l'on ne dispose pas de formule explicite pour la fonction de répartition d'une gaussienne. Toutefois, la loi gaussienne et la la loi de Cauchy admettent une densité par rapport à la mesure de Lebesgue et ces densités verifient la propriété $(*)$. On peut donc simuler une variable gaussienne à l'aide d'une variable de loi de Cauchy:\n"
      ],
      "metadata": {
        "id": "_Iz30_c6wZiu"
      }
    },
    {
      "cell_type": "code",
      "source": [
        "def p(x): # p = f/g, le rapport des densités\n",
        "  return ((1/np.sqrt(2*np.pi))*np.exp(-0.5*(x)**2)) / (1/(np.pi*(1+x**2))) #rapport des densités\n",
        "\n",
        "def simu_gaussienne(n): #la fonction de simulation de la loi auxiliaire, ici une loi de Cauchy(a=1,xo=0)\n",
        "  return simulation_cauchy(n,1,0)\n",
        "\n",
        "xx = np.linspace(-5,5,100)\n",
        "X = simu_rejet(p,simu_gaussienne,10**4)\n",
        "hist(X,bins=xx,density=True) #densité empirique\n",
        "plot(xx,(1/np.sqrt(2*np.pi))*np.exp(-0.5*(xx)**2),'r') #densité théorique\n",
        "show()\n",
        "\n",
        "#test, on utilise scipy car on a pas de formule explicite pour la fdr d'une loi normale\n",
        "from scipy.stats import norm\n",
        "test_kolmo(X,lambda x:norm.cdf(x), 0.05)"
      ],
      "metadata": {
        "id": "gVBDArmOrNNL",
        "colab": {
          "base_uri": "https://localhost:8080/",
          "height": 353
        },
        "outputId": "dc7fbc83-d7a9-4d43-8310-5ac27f7cb0ac"
      },
      "execution_count": null,
      "outputs": [
        {
          "output_type": "stream",
          "name": "stdout",
          "text": [
            "Optimization terminated successfully.\n",
            "         Current function value: -1.520347\n",
            "         Iterations: 25\n",
            "         Function evaluations: 50\n"
          ]
        },
        {
          "output_type": "display_data",
          "data": {
            "text/plain": [
              "<Figure size 432x288 with 1 Axes>"
            ],
            "image/png": "[encoded data removed]"
          },
          "metadata": {
            "needs_background": "light"
          }
        },
        {
          "output_type": "execute_result",
          "data": {
            "text/plain": [
              "\"l'échantillon suit la loi de réfèrence\""
            ],
            "application/vnd.google.colaboratory.intrinsic+json": {
              "type": "string"
            }
          },
          "metadata": {},
          "execution_count": 25
        }
      ]
    },
    {
      "cell_type": "markdown",
      "source": [
        "L'algorithme de rejet implémenté ne possède pas un nombre maximal d'itérations. Si l'on note $N$ le nombre d'itérations, $N$ suit une loi géométrique de paramètre $\\frac{1}{c}$ car la probabilité de rejeter $V_{k}$ vaut $c$. Il faut donc choisir $c$ le plus petit possible pour avoir le moins d'itérations et donc un algorithme performant. Il faut donc chercher une loi auxiliaire dont la densité $g$ est \"proche\" de $f$.\n",
        "\n",
        "Nous illustrons ceci en calculant le nombre d'itérations pour générer une loi gaussienne avec la méthode du rejet en utilisant deux densité auxilaires différentes."
      ],
      "metadata": {
        "id": "D4Adu6ewwYmD"
      }
    },
    {
      "cell_type": "code",
      "source": [
        "xx = np.linspace(-5,5,100)\n",
        "plot(xx,(1/np.sqrt(2*np.pi))*np.exp(-0.5*(xx)**2),'r') #gaussienne centrée réduite\n",
        "plot(xx,1/(np.pi*(1+xx**2)),'b') #Cauchy(a=1,x0=0)\n",
        "plot(xx,1/(3*np.pi*(1+((xx-2)/3)**2)),'k') #Cauchy(a=3,x0=2)"
      ],
      "metadata": {
        "id": "luo2LWJ-V8bm",
        "colab": {
          "base_uri": "https://localhost:8080/",
          "height": 282
        },
        "outputId": "ce0245a9-20e6-4f87-e014-073a92e028f1"
      },
      "execution_count": null,
      "outputs": [
        {
          "output_type": "execute_result",
          "data": {
            "text/plain": [
              "[<matplotlib.lines.Line2D at 0x7f8ba98709d0>]"
            ]
          },
          "metadata": {},
          "execution_count": 26
        },
        {
          "output_type": "display_data",
          "data": {
            "text/plain": [
              "<Figure size 432x288 with 1 Axes>"
            ],
            "image/png": "[encoded data removed]"
          },
          "metadata": {
            "needs_background": "light"
          }
        }
      ]
    },
    {
      "cell_type": "markdown",
      "source": [
        "La densité de la loi Cauchy(a=3,x0=2) (en noir) est beaucoup plus \"éloignée\" de la densité de la loi gaussienne (en rouge) que la densité de la loi Cauchy(a=1,x0=0) (en bleu). Ceci fait que la probabilité de rejet sera plus élevée avec la Cauchy(a=3,x0=2) et la méthode de rejet nécessitera plus d'itérations. Nous le vérifions en comptant les itérations de l'algorithme de rejet avec ces deux lois auxiliaires: "
      ],
      "metadata": {
        "id": "6LCmSDVPYTZ8"
      }
    },
    {
      "cell_type": "code",
      "source": [
        "#même fonction mais qui renvoie en plus le nombre d'itérations\n",
        "\n",
        "def simu_rejet_iter(p,simu,n):\n",
        "  cpt= 0 # compteur du nombre d'itérations\n",
        "  X = np.zeros(n)\n",
        "  c = -optimize.fmin(lambda x: -p(x), 0, full_output=True)[1];\n",
        "  print(c)\n",
        "\n",
        "  for i in range(n):\n",
        "    U = 2\n",
        "    Y = 0\n",
        "\n",
        "    while U > p(Y)/c:\n",
        "        cpt+=1\n",
        "        U = rand();\n",
        "        Y = simu(1);\n",
        "    X[i] = Y;\n",
        "\n",
        "  return X,cpt"
      ],
      "metadata": {
        "id": "GR2AOS4GW2kq"
      },
      "execution_count": null,
      "outputs": []
    },
    {
      "cell_type": "code",
      "source": [
        "#avec la Cauchy(a=1,x0=0)\n",
        "def p(x):\n",
        "  return ((1/np.sqrt(2*np.pi))*np.exp(-0.5*(x)**2)) / (1/(np.pi*(1+x**2)))\n",
        "def simu_gaussienne(n):\n",
        "  return simulation_cauchy(1,1,0)\n",
        "\n",
        "#avec la Cauchy(a=3,x0=2)\n",
        "def p2(x):\n",
        "  return ((1/np.sqrt(2*np.pi))*np.exp(-0.5*(x)**2)) / (1/(3*np.pi*(1+((x-2)/3)**2)))\n",
        "def simu_gaussienne2(n):\n",
        "  return simulation_cauchy(1,3,2)\n",
        "\n",
        "\n",
        "X, c1 = simu_rejet_iter(p,simu_gaussienne,10**4)\n",
        "Y , c2 = simu_rejet_iter(p2,simu_gaussienne2,10**4)\n",
        "\n",
        "hist(X,bins=xx,density=True)\n",
        "plot(xx,(1/np.sqrt(2*np.pi))*np.exp(-0.5*(xx)**2),'r')\n",
        "title(\"Gaussienne simulée avec la Cauchy(a=1,x0=0) comme loi auxiliaire\")\n",
        "show()\n",
        "\n",
        "hist(Y,bins=xx,density=True)\n",
        "plot(xx,(1/np.sqrt(2*np.pi))*np.exp(-0.5*(xx)**2),'r')\n",
        "title(\"Gaussienne simulée avec la Cauchy(a=3,x0=2) comme loi auxiliaire\")\n",
        "show()\n",
        "\n",
        "print(\"nombre d'itérations Cauchy(a=1,x0=0): \",c1)\n",
        "print(\"nombre d'itérations Cauchy(a=3,x0=2): \",c2)\n",
        "\n"
      ],
      "metadata": {
        "id": "atAKhpL2Wj-Q",
        "colab": {
          "base_uri": "https://localhost:8080/",
          "height": 753
        },
        "outputId": "e85c22b4-b510-4e09-ee91-87382dcb3c8a"
      },
      "execution_count": null,
      "outputs": [
        {
          "output_type": "stream",
          "name": "stdout",
          "text": [
            "Optimization terminated successfully.\n",
            "         Current function value: -1.520347\n",
            "         Iterations: 25\n",
            "         Function evaluations: 50\n",
            "1.5203469010662807\n",
            "Optimization terminated successfully.\n",
            "         Current function value: -5.708680\n",
            "         Iterations: 22\n",
            "         Function evaluations: 44\n",
            "5.708680136706425\n"
          ]
        },
        {
          "output_type": "display_data",
          "data": {
            "text/plain": [
              "<Figure size 432x288 with 1 Axes>"
            ],
            "image/png": "[encoded data removed]"
          },
          "metadata": {
            "needs_background": "light"
          }
        },
        {
          "output_type": "display_data",
          "data": {
            "text/plain": [
              "<Figure size 432x288 with 1 Axes>"
            ],
            "image/png": "[encoded data removed]"
          },
          "metadata": {
            "needs_background": "light"
          }
        },
        {
          "output_type": "stream",
          "name": "stdout",
          "text": [
            "nombre d'itérations Cauchy(a=1,x0=0):  15261\n",
            "nombre d'itérations Cauchy(a=3,x0=2):  57691\n"
          ]
        }
      ]
    },
    {
      "cell_type": "markdown",
      "source": [
        "Dans les deux cas, nous parvenons à simuler une loi gaussienne centrée réduite, la loi de Cauchy(a=3,x0=2) engendre beaucoup plus d'itérations comme la constante $c$ associée est plus grande."
      ],
      "metadata": {
        "id": "L3A320V3X8Z7"
      }
    },
    {
      "cell_type": "markdown",
      "source": [
        "**Simulation d'une loi Bêta à partir d'une loi uniforme avec la méthode du rejet:**\n",
        "\n",
        "Comme dans le cas précèdent, la loi Bêta et la loi uniforme (toutes deux ayant comme support $[0;1]$) vérifient la proprièté $(*)$, on peut donc utiliser l'algorithme de rejet pour simuler une loi Bêta à partir d'une loi uniforme.\n",
        "\n",
        "  \n",
        "La loi Bêta de paramètres $a,b \\in \\mathbb{R}^{+*}$ admet comme densité $f: x → \\frac{\\gamma(a+b)}{\\gamma(a)\\gamma(b)}x^{a-1}(1-x)^{b-1}\\mathbb{1}_{[0;1]}(x)$ ."
      ],
      "metadata": {
        "id": "qdzk_E5HZcGp"
      }
    },
    {
      "cell_type": "code",
      "source": [
        "a , b = 4 , 2\n",
        "\n",
        "def p_bis(x): # p = rapport des densités (comme précedemment)\n",
        "  return (mat.gamma(a+b)/(mat.gamma(a)*mat.gamma(b)))*x**(a-1)*(1-x)**(b-1)\n",
        "\n",
        "def simu_beta(n): #simulation de la loi auxiliaire: la loi uniforme\n",
        "  return rand(n)\n",
        "\n",
        "xx = np.linspace(0,1,50)\n",
        "X = simu_rejet(p_bis,simu_beta,10**4)\n",
        "hist(X,bins=xx,density=True) #densité empirique\n",
        "plot(xx,(mat.gamma(a+b)/(mat.gamma(a)*mat.gamma(b)))*xx**(a-1)*(1-xx)**(b-1),'r') #densité théorique"
      ],
      "metadata": {
        "id": "vtJWBPdvbkSW",
        "colab": {
          "base_uri": "https://localhost:8080/",
          "height": 352
        },
        "outputId": "88e5b3f9-0fcf-49c5-f147-da82e9e3b391"
      },
      "execution_count": null,
      "outputs": [
        {
          "output_type": "stream",
          "name": "stdout",
          "text": [
            "Optimization terminated successfully.\n",
            "         Current function value: -2.109375\n",
            "         Iterations: 24\n",
            "         Function evaluations: 48\n"
          ]
        },
        {
          "output_type": "execute_result",
          "data": {
            "text/plain": [
              "[<matplotlib.lines.Line2D at 0x7f8ba958df10>]"
            ]
          },
          "metadata": {},
          "execution_count": 29
        },
        {
          "output_type": "display_data",
          "data": {
            "text/plain": [
              "<Figure size 432x288 with 1 Axes>"
            ],
            "image/png": "[encoded data removed]"
          },
          "metadata": {
            "needs_background": "light"
          }
        }
      ]
    },
    {
      "cell_type": "markdown",
      "source": [
        "## c) Méthodes par changement de variables\n",
        "\n",
        "Enfin, nous implémentons quelques méthodes de simulation basées sur des changements de variables. Supposons que l'on veuille simuler une variable aléatoire de loi $\\mathbb{P}$ et que l'on sache simuler une variable aléatoire $X$. L'idée est de trouver un changement de variable adéquat $\\phi$ tel que $\\phi(X)$ suit la loi $\\mathbb{P}$. Biensûr, de tels changements de variables ne sont pas toujours possibles; nous allons impleménté quelques changements de variables connus. L'avantage de ces méthodes est que chaque variable suivant la loi auxilaire est utilisée contrairement à la méthode du rejet où seulement une partie des variables est utilisée dans la géneration. Les changements de variables sont donc moins coûteux en termes d'itérations."
      ],
      "metadata": {
        "id": "_3u3ohCwZCZe"
      }
    },
    {
      "cell_type": "markdown",
      "source": [
        "**Le changement de variable de Box Muller**\n",
        "\n",
        "Soient $(U_{k})_{k}$ et  $(V_{k})_{k}$ deux suites de variables iid indépendantes de lois uniformes sur $[0;1]$. Alors, les variables $X_{k}:=\\sqrt{-2\\log(U_{k})}cos(2\\Pi V_{k})$ et $V_{k}:=\\sqrt{-2\\log(U_{k})}sin(2\\Pi V_{k})$ sont indépendantes et suivent une loi normale centrée réduite."
      ],
      "metadata": {
        "id": "_qLEYJX1d9HY"
      }
    },
    {
      "cell_type": "code",
      "source": [
        "def Box_Muller(n):\n",
        "  U = rand(n)\n",
        "  V = rand(n)\n",
        "  X = np.sqrt(-2*np.log(U))*np.cos(2*np.pi*V)\n",
        "  Y = np.sqrt(-2*np.log(U))*np.sin(2*np.pi*V)\n",
        "  return X,Y\n"
      ],
      "metadata": {
        "id": "kC6Nuln5ZBio"
      },
      "execution_count": null,
      "outputs": []
    },
    {
      "cell_type": "code",
      "source": [
        "n = 10**4\n",
        "X,Y = Box_Muller(n)\n",
        "\n",
        "xx = np.linspace(-3,3,50)\n",
        "hist(X,bins=xx,density=True)\n",
        "plot(xx,(1/np.sqrt(2*np.pi))*np.exp(-0.5*(xx)**2),'r')\n",
        "title(\"X\")\n",
        "show()\n",
        "\n",
        "hist(Y,bins=xx,density=True)\n",
        "plot(xx,(1/np.sqrt(2*np.pi))*np.exp(-0.5*(xx)**2),'r')\n",
        "title(\"Y\")\n",
        "show()\n",
        "\n",
        "#indépendance\n",
        "plot(X,Y,'r.') #les variables semblent indépendantes étant donné le  nuage de points\n",
        "title(\"Nuage de points de (X,Y) pour se faire une idée d'une éventuelle liaison entre ces deux variables\")\n",
        "show()\n",
        "#test d'indépendance, H0 : les variables sont indépendantes\n",
        "print()\n",
        "print(\"Conclusion:\")\n",
        "if stats.spearmanr(X, Y).pvalue > 0.05:\n",
        "  print(\"etant donnée la p-value, on peut affirmer que les variables sont independantes\")\n",
        "else:\n",
        "  print(\"etant donnée la p-value, nous rejetons l'hypothèse d'independance des variables\")"
      ],
      "metadata": {
        "id": "maafDKEfh0X5",
        "colab": {
          "base_uri": "https://localhost:8080/",
          "height": 861
        },
        "outputId": "01a4aebb-5625-4959-c0e8-21dfb0dbc4fa"
      },
      "execution_count": null,
      "outputs": [
        {
          "output_type": "display_data",
          "data": {
            "text/plain": [
              "<Figure size 432x288 with 1 Axes>"
            ],
            "image/png": "[encoded data removed]"
          },
          "metadata": {
            "needs_background": "light"
          }
        },
        {
          "output_type": "display_data",
          "data": {
            "text/plain": [
              "<Figure size 432x288 with 1 Axes>"
            ],
            "image/png": "[encoded data removed]"
          },
          "metadata": {
            "needs_background": "light"
          }
        },
        {
          "output_type": "display_data",
          "data": {
            "text/plain": [
              "<Figure size 432x288 with 1 Axes>"
            ],
            "image/png": "[encoded data removed]"
          },
          "metadata": {
            "needs_background": "light"
          }
        },
        {
          "output_type": "stream",
          "name": "stdout",
          "text": [
            "\n",
            "Conclusion:\n",
            "etant donnée la p-value, on peut affirmer que les variables sont independantes\n"
          ]
        }
      ]
    },
    {
      "cell_type": "markdown",
      "source": [
        "**Changement de variable pour la loi Bêta**  \n",
        "\n",
        "Si $U$ suit une loi uniforme sur $[0;1]$, $sin^{2}(\\Pi \\frac{U}{2})$ suit la loi Bêta de paramètres 1/2 et 1/2."
      ],
      "metadata": {
        "id": "pHSzglDbyhZd"
      }
    },
    {
      "cell_type": "code",
      "source": [
        "def ch_var_beta(n):\n",
        "  U = rand(n)\n",
        "  return np.sin(np.pi*0.5*U)**2\n",
        "\n",
        "a , b = 0.5, 0.5\n",
        "\n",
        "xx = np.linspace(0,1,100)\n",
        "X = ch_var_beta(10**4)\n",
        "hist(X,bins=xx,density=True)\n",
        "plot(xx,(mat.gamma(a+b)/(mat.gamma(a)*mat.gamma(b)))*xx**(a-1)*(1-xx)**(b-1),'r')"
      ],
      "metadata": {
        "id": "IpiEuDUJl58D",
        "colab": {
          "base_uri": "https://localhost:8080/",
          "height": 317
        },
        "outputId": "01dfc302-8d30-47b2-933f-cddc8e471b67"
      },
      "execution_count": null,
      "outputs": [
        {
          "output_type": "stream",
          "name": "stderr",
          "text": [
            "/usr/local/lib/python3.7/dist-packages/ipykernel_launcher.py:10: RuntimeWarning: divide by zero encountered in power\n",
            "  # Remove the CWD from sys.path while we load stuff.\n"
          ]
        },
        {
          "output_type": "execute_result",
          "data": {
            "text/plain": [
              "[<matplotlib.lines.Line2D at 0x7f8ba981e890>]"
            ]
          },
          "metadata": {},
          "execution_count": 32
        },
        {
          "output_type": "display_data",
          "data": {
            "text/plain": [
              "<Figure size 432x288 with 1 Axes>"
            ],
            "image/png": "[encoded data removed]"
          },
          "metadata": {
            "needs_background": "light"
          }
        }
      ]
    },
    {
      "cell_type": "markdown",
      "source": [
        "## d) Simulation de lois Gaussiennes avec le Théorème Central Limite (TCL)\n",
        "\n",
        "Soit $(U_{k})_{k}$ une suite de variables aléatoires iid admettant un moment d'ordre 2. Notons $m$ leur espérance et $\\sigma$  leur variance, le Théorème Central Limite nous assure que $\\frac{\\sqrt{n}}{\\sigma} \\times (\\frac{1}{n}\\sum_{i=1}^n U_{i} -m)$ converge en loi vers une variable normale centrée réduite lorsque $n \\rightarrow +\\infty$ .\n",
        "\n",
        "Prenons pour $(U_{k})_{k}$ une suite iid de variables uniformes sur $[0;1]$ (on aurait pu choisir n'importe quelle loi admettant un moment d'ordre 2):"
      ],
      "metadata": {
        "id": "2bGpmx9YoGNK"
      }
    },
    {
      "cell_type": "code",
      "source": [
        "n = 10**4 #nombre de simulations de variables gaussiennes\n",
        "k = 10**3 #nombre d'uniformes pour générer chaque gaussienne, on considère être dans l'asymptotique à 10**3.\n",
        "\n",
        "\n",
        "U = np.zeros((k,n))\n",
        "for i in range(k):\n",
        "  U[i,:] = rand(n)\n",
        "\n",
        "X = 12*np.sqrt(k)*(np.mean(U,axis=1)-0.5) #on applique la formule du TCL aux n vecteurs de taille k contenant des uniformes iid.\n",
        "xx = np.linspace(-3,3,50)\n",
        "hist(X,bins=xx,density=True)\n",
        "plot(xx,(1/np.sqrt(2*np.pi))*np.exp(-0.5*(xx)**2),'r')"
      ],
      "metadata": {
        "id": "Rz-65TyP52Xd",
        "colab": {
          "base_uri": "https://localhost:8080/",
          "height": 282
        },
        "outputId": "2d3f71fd-fac8-4b74-d3d8-9fb57f9adf0c"
      },
      "execution_count": null,
      "outputs": [
        {
          "output_type": "execute_result",
          "data": {
            "text/plain": [
              "[<matplotlib.lines.Line2D at 0x7f8ba9bdf950>]"
            ]
          },
          "metadata": {},
          "execution_count": 33
        },
        {
          "output_type": "display_data",
          "data": {
            "text/plain": [
              "<Figure size 432x288 with 1 Axes>"
            ],
            "image/png": "[encoded data removed]"
          },
          "metadata": {
            "needs_background": "light"
          }
        }
      ]
    },
    {
      "cell_type": "markdown",
      "source": [
        "# **$\\rm III)$ Applications : les méthodes de Monte Carlo**\n",
        "\n",
        "L'aléatoire joue un rôle important dans le calcul intégral numérique, à travers les méthodes de Monte Carlo.\n",
        "\n",
        "\n",
        "\n",
        "D'abord, nous montrons une illustration classique de Monte Carlo afin de trouver la valeur de $\\pi$ (en intégrant l'indicatrice du disque unité sur $[-1,1]^2$). Ensuite, nous verrons l'implémentation de la méthode de Monte Carlo sur python pour les fonctions à support unidimensionnel et comparerons ses résultats avec ceux des méthodes numériques classiques déterministes de calculs d'intégrales. Finalement, nous généraliserons en dimension $d$ afin d'illustrer le *fléau de la dimension*."
      ],
      "metadata": {
        "id": "6sENg_sgGVSa"
      }
    },
    {
      "cell_type": "markdown",
      "source": [
        "##  a) Introduction avec le calcul approché de $\\pi$\n",
        "\n",
        "L'aire du disque de rayon $1$ est $\\pi$ et l'aire d'un carré de coté de longueur $2$ centré en $(0,0)$ est $4$. Si l'on simule une loi uniforme sur ce carré, la probabilité $p$ de se trouver dans le disque est le rapport entre les deux aires soit  $\\frac{\\pi}{4}$. Ainsi $\\pi = 4p$. Cette formule nous donne une méthode pour obtenir une valeur approchée de $\\pi$ :\n",
        "\n",
        "*   A l'aide deux variables uniformes indépendates sur $[-1;1]$, on génère une loi uniforme sur $[-1;1]^{2}$.\n",
        "*   On approxime $p$ en calculant le rapport entre le nombre de réalisations dans le disque unité et le nombre total de réalisations.\n",
        "* Une fois $p$ approximée, on approxime $\\pi = 4p$ .\n",
        "\n",
        "\n"
      ],
      "metadata": {
        "id": "XcLMuTClyqtX"
      }
    },
    {
      "cell_type": "code",
      "source": [
        "U = rand(10**6)\n",
        "V = rand(10**6)\n",
        "pi_approx = 4*len(U[U**2 + V**2<1])/10**6\n",
        "print(\"approximation: \",pi_approx, \"//  vraie valeur: \",np.pi)    "
      ],
      "metadata": {
        "id": "dmQ9yQCArNUg",
        "colab": {
          "base_uri": "https://localhost:8080/"
        },
        "outputId": "43d79238-a2d0-4838-eeeb-7698fcddc47e"
      },
      "execution_count": null,
      "outputs": [
        {
          "output_type": "stream",
          "name": "stdout",
          "text": [
            "approximation:  3.139184 //  vraie valeur:  3.141592653589793\n"
          ]
        }
      ]
    },
    {
      "cell_type": "markdown",
      "source": [
        "##  b) Calcul intégral numérique en dimension 1\n",
        "\n"
      ],
      "metadata": {
        "id": "ZDfnWpvjCl7r"
      }
    },
    {
      "cell_type": "markdown",
      "source": [
        "### Monte Carlo sur un segment de $\\mathbb{R}$"
      ],
      "metadata": {
        "id": "Z6MLzWGT7XhZ"
      }
    },
    {
      "cell_type": "markdown",
      "source": [
        "\n",
        "\n",
        "Soit $f$ une fonction d'une variable réelle à valeurs réelles, intégrable sur $\\mathbb{R}$. On souhaite calculer $I(f) : = \\int_{\\mathbb{R}} f$.   \n",
        "\n",
        "Soit $X$ une variable aléatoire réelle de loi $\\mathbb{P}_{X}$ et $g$ une fonction d'une variable réelle à valeurs réelles telle que $E[|g(X)|]$ existe. Le théorème de transfert nous permet d'affirmer que $E[g(X)] = \\int_{\\mathbb{R}} g(x) d\\mathbb{P}_{X}(x)$. De plus, si $X$ admet une densité $f_{X}$ par rapport à la mesure de Lebesgue, $E[g(X)] = \\int_{\\mathbb{R}} g(x) \\times f_{X}(x) dx $.  \n",
        "   \n",
        "Le principe de la méthode de Monte Carlo est de trouver une variable aléatoire $X$ et une fonction $g$ (avec $E[|g(X)|] < +∞$)  telles  que $E[g(X)] = I(f)$.\n",
        "\n",
        "Etant donné que $E[|g(X)|] < +∞$, la loi forte des Grands nombres s'applique: soient $(X_{k})_{k}$ une suite  de variables *iid* de loi $\\mathbb{P}_{X}$, $\\frac{1}{n}\\sum_{i}^{n} g(X_{i})$ converge presque sûrement vers $E[g(X)]=I(f)$. On a donc un estimateur convergeant et sans biais de $I(f).$\n",
        "\n",
        "  \n",
        "De plus, il est possible de construire un intervalle de confiance asymptotique de $I(f)$ avec le Théorème Central Limite:  \n",
        "$ \\mathbb{P}(I(f) \\in [G_{n} - c\\sqrt{\\frac{Var(g(X))}{n}} ; G_{n} + c\\sqrt{\\frac{Var(g(X)}{n}} ])$ $→$ $\\int_{[-c;c]}\\frac{e^{-\\frac{x^{2}}{2}}}{\\sqrt{2\\Pi}}dx$.  \n",
        "Pour $c=2.6$ , $\\int_{[-c;c]}\\frac{e^{-\\frac{x^{2}}{2}}}{\\sqrt{2\\Pi}}dx >0.99$. Il est donc possible d'obtenir un encadrement très précis avec une probabilité élevée de $I(f)$ pour $n$ grand. Cependant, ceci nécessite de connaître $Var(g(X))$, on l'estime à l'aide de : $\\sigma_{n}^{2} := \\frac{1}{n} \\sum_{i}^{n}g(X_{i})^{2} - G_{n}^{2}$ .  \n",
        "  \n",
        "Finalement, $\\mathbb{P}(|G_{n} - I(f)|< c\\frac{\\sqrt{\\sigma_{n}^{2}}}{\\sqrt{n}})$ $→$ $\\int_{[-c;c]}\\frac{e^{-\\frac{x^{2}}{2}}}{\\sqrt{2\\Pi}}dx$. En d'autres termes, notons $e_{n}$ l'erreur, $e_{n} := |G_{n} - I(f)|$; avec une probabilité $1-\\alpha$,  $|e_{n}|<q_{1-\\frac{\\alpha}{2}}\\frac{\\sqrt{\\sigma_{n}^{2}}}{\\sqrt{n}}$ où $q_{1-\\frac{\\alpha}{2}}$ désigne le quantile d'ordre $1-\\alpha$ de la loi normale centrée réduite.\n"
      ],
      "metadata": {
        "id": "VB7c5HW2Nt4w"
      }
    },
    {
      "cell_type": "markdown",
      "source": [
        "Nous commençons par définir une fonction *MC1* qui permet d'approximer avec la méthode de Monte Carlo $\\int_{[a;b]} f(x) dx$. En effet, dans le cas où $f$ est à support compact $[a,b]$, en prenant $X$ une variable aléatoire de loi uniforme sur $[a;b]$ et $g=(b-a)f$ on a $I(f)= E[g(X)]$. Il est donc toujours possible d'approximer $I(f)$ avec les méthodes de Monte Carlo lorsque f est à support compact. "
      ],
      "metadata": {
        "id": "bffMYEohh5xG"
      }
    },
    {
      "cell_type": "code",
      "source": [
        "def MC1(f,a,b,n):\n",
        "  U = (b-a)*rand(n)+a #loi uniforme sur [a;b]\n",
        "  Y = f(U)\n",
        "\n",
        "  return sum(Y)*(b-a)/n #formule de MC donnée par la loi des grands nombres"
      ],
      "metadata": {
        "id": "YAhhd87arNib"
      },
      "execution_count": null,
      "outputs": []
    },
    {
      "cell_type": "code",
      "source": [
        "#on approxime l'intégrale sur [0.3] de x-->x**2, la valeur théorique est 9.\n",
        "\n",
        "def f(x):\n",
        "  return x**2\n",
        "\n",
        "MC1(f,0,3,10**5)"
      ],
      "metadata": {
        "colab": {
          "base_uri": "https://localhost:8080/"
        },
        "id": "dsEhVotmir0O",
        "outputId": "b378fc8f-81a6-474c-d764-e2238b58b876"
      },
      "execution_count": null,
      "outputs": [
        {
          "output_type": "execute_result",
          "data": {
            "text/plain": [
              "9.021761428604282"
            ]
          },
          "metadata": {},
          "execution_count": 36
        }
      ]
    },
    {
      "cell_type": "markdown",
      "source": [
        "Nous allons à présent illuster numériquement les propriètés asymptotiques de la méthode de Monte Carlo. Dans un premier temps, nous calculons la probabilité asymptotique que l'intervalle de confiance $[G_{n} - c\\sqrt{\\frac{Var(g(X))}{n}} ; G_{n} + c\\sqrt{\\frac{Var(g(X)}{n}} ]$ contienne $I(f)$. Cette probabilité doit être proche de $\\int_{[-c;c]}\\frac{e^{-\\frac{x^{2}}{2}}}{\\sqrt{2\\Pi}}dx$.\n",
        "\n",
        "Nous considérons que $10^{4}$ est asymptotique est nous prenons $c=1.645$, le quantile d'odre $0.05$ de la loi normale centré réduite. En théorie, nous devons obtenir une probabilité proche de $0.9= 1-2\\times 0.05.$"
      ],
      "metadata": {
        "id": "I1ou-p6cjCm_"
      }
    },
    {
      "cell_type": "code",
      "source": [
        "def intervalle_TCL(n,f, I, a,b,c): # I = I(f), n = nombre d'approximations calculées\n",
        "\n",
        "  cpt = 0 #on compte le nombre de fois où I(f) est effectivement dans l'intervalle de confiance (IC)\n",
        "  approx = [] #liste des valeurs approximées\n",
        "  bsup = [] #liste des bornes sup des intervalles de confiance\n",
        "  binf =[] #liste des bornes inf des intervalles de confiance\n",
        "\n",
        "  for i in range(n):\n",
        "    Gn = MC1(f,a,b,10**4)\n",
        "    sigma_n = MC1(lambda x:f(x)**2,a,b,10**4) #on estime par MC1 sigma2\n",
        "    approx.append(Gn)\n",
        "    bsup.append(Gn + c*np.sqrt(sigma_n/10**4))\n",
        "    binf.append(Gn - c*np.sqrt(sigma_n/10**4))\n",
        "    if I < Gn + c*np.sqrt(sigma_n/10**4) and I > Gn - c*np.sqrt(sigma_n/10**4):\n",
        "      cpt+=1\n",
        "  return approx,cpt/n, bsup, binf #on retourne les valeurs d'aproximation, la proba d'être dans un IC et les valeurs des IC.\n",
        "\n",
        "def f(x):\n",
        "  return x**2\n",
        "\n",
        "resultats = intervalle_TCL(10**3,f,9,0,3,1.96)\n",
        "#on a pris le quantile d'ordre 0.05, la probabilité théorique est donc 1-2*0.05 = 0.9\n",
        "print(\"Probabilité théorique = 0.9\", \"probabilité empirique:\" ,resultats[1])"
      ],
      "metadata": {
        "colab": {
          "base_uri": "https://localhost:8080/"
        },
        "id": "7mvAqK5_piPZ",
        "outputId": "f9a269f2-ad0a-4900-a22a-8a9bcb20c4c1"
      },
      "execution_count": null,
      "outputs": [
        {
          "output_type": "stream",
          "name": "stdout",
          "text": [
            "Probabilité théorique = 0.9 probabilité empirique: 0.906\n"
          ]
        }
      ]
    },
    {
      "cell_type": "code",
      "source": [
        "#Répresentaion graphique des Intervalles de confiances (IC)\n",
        "\n",
        "#on calcul 20 valeurs approchées et 20 IC. On a toujours alpha = 0.05\n",
        "resultats = intervalle_TCL(20,f,9,0,3,1.96)\n",
        "\n",
        "val = resultats[0] #valeurs d'approximation fournies par Monte Carlo\n",
        "xx = np.linspace(min(val), max(val), len(val)) #les valeurs obtenues sont en abscisse\n",
        "plot(val,xx,'ro')\n",
        "\n",
        "#bornes des IC:\n",
        "bsup = resultats[2]\n",
        "binf = resultats[3]\n",
        "#autour de chaque valeur approchée, on trace l'intervalle de confiance associé\n",
        "for i in range(len(binf)):\n",
        "  plot((binf[i],bsup[i]), (xx[i],xx[i]),'b-')\n",
        "\n",
        "#vraie valeur : 9, on voit ainsi si un intervalle de confiance contient ou non la vraie valeur.\n",
        "plot((9,9), (xx[0], xx[-1]), 'k-')"
      ],
      "metadata": {
        "colab": {
          "base_uri": "https://localhost:8080/",
          "height": 282
        },
        "id": "2lg-AFw8tVwj",
        "outputId": "6cc571c2-8eaa-4ba4-df4e-57287c64e655"
      },
      "execution_count": null,
      "outputs": [
        {
          "output_type": "execute_result",
          "data": {
            "text/plain": [
              "[<matplotlib.lines.Line2D at 0x7f8ba9500310>]"
            ]
          },
          "metadata": {},
          "execution_count": 38
        },
        {
          "output_type": "display_data",
          "data": {
            "text/plain": [
              "<Figure size 432x288 with 1 Axes>"
            ],
            "image/png": "[encoded data removed]"
          },
          "metadata": {
            "needs_background": "light"
          }
        }
      ]
    },
    {
      "cell_type": "markdown",
      "source": [
        "### Monte Carlo sur $\\mathbb{R}_+$"
      ],
      "metadata": {
        "id": "Pujf7sw80bgv"
      }
    },
    {
      "cell_type": "markdown",
      "source": [
        "La loi uniforme n'est définie que sur des ensembles bornés. Si l'on souhaite intégrer une fonction sur un ensemble non borné il faut utiliser une loi ayant comme support cet ensemble. Par exemple, sur $\\mathbb{R}_{+}$, on peut utiliser une loi exponentielle, on nomme cette loi la loi auxiliaire. Notons $g$ la densité de la loi auxiliaire, $f$ doit s'annuler partout où $g$ s'annule. Si cette conditon est vérifiée on a $I(f) : = \\int_{\\mathbb{R}} \\frac{f(x)}{g(x)}g(x) dx$. On pose $\\Psi = \\frac{f}{g}, I(f) = E[\\Psi(X)]$, cette formule nous permet d'approximer $I(f)$ via Monte Carlo. Etant donné que l'intervalle de confiance dépend de $Var(\\Psi(X))$, il faut prendre $g$ \"proche\" de $f$ pour minimiser cette variance.\n",
        "\n",
        "Approximons $I = \\int_{0}^{\\infty} e^{-x^2/2} dx.$ à l'aide d'une variable exponentielle. On sait que $I\\cong 1.2533$"
      ],
      "metadata": {
        "id": "QBvDHR4o19Bz"
      }
    },
    {
      "cell_type": "code",
      "source": [
        "def MC1_Rplus(f,n):\n",
        "  return np.mean(f(simu_expo(1,n))) #estimateur de Monte Carlo\n",
        "\n",
        "\n",
        "MC1_Rplus(lambda x : np.exp(-0.5*x**2)/np.exp(-x),10**4)"
      ],
      "metadata": {
        "colab": {
          "base_uri": "https://localhost:8080/"
        },
        "id": "aABo9ivK1DwJ",
        "outputId": "c80f512a-a850-4df2-f81e-e2b661383976"
      },
      "execution_count": null,
      "outputs": [
        {
          "output_type": "execute_result",
          "data": {
            "text/plain": [
              "1.250549169996661"
            ]
          },
          "metadata": {},
          "execution_count": 39
        }
      ]
    },
    {
      "cell_type": "code",
      "source": [
        "#Un test unitaire\n",
        "import unittest\n",
        "\n",
        "class Tests(unittest.TestCase):\n",
        "  \n",
        "    def test_MC_Rplus(self):\n",
        "        '''teste la méthode de Monte Carlo sur support unidimensionnel infini '''\n",
        "        res = MC1_Rplus(lambda x : np.exp(-x),10000)\n",
        "        self.assertLessEqual(res,1.01)\n",
        "\n"
      ],
      "metadata": {
        "id": "PCn4fGYKQmp0"
      },
      "execution_count": null,
      "outputs": []
    },
    {
      "cell_type": "code",
      "source": [
        "unittest.main(argv=[''], verbosity=2, exit=False)"
      ],
      "metadata": {
        "id": "rnDRyOducJGt",
        "colab": {
          "base_uri": "https://localhost:8080/"
        },
        "outputId": "b5de71af-9e78-4da2-88c8-158fe9e868e6"
      },
      "execution_count": null,
      "outputs": [
        {
          "output_type": "stream",
          "name": "stderr",
          "text": [
            "test_MC_Rplus (__main__.Tests)\n",
            "teste la méthode de Monte Carlo sur support unidimensionnel infini ... ok\n",
            "\n",
            "----------------------------------------------------------------------\n",
            "Ran 1 test in 0.007s\n",
            "\n",
            "OK\n"
          ]
        },
        {
          "output_type": "execute_result",
          "data": {
            "text/plain": [
              "<unittest.main.TestProgram at 0x7f8ba9d27310>"
            ]
          },
          "metadata": {},
          "execution_count": 41
        }
      ]
    },
    {
      "cell_type": "markdown",
      "source": [
        "### Une méthode numérique usuelle : la méthode des trapèzes\n",
        "\n",
        "Nous allons comparer la méthode de Monte Carlo à des méthodes numériques déterministes. Nous commençons la comparaison avec la méthode des trapèzes."
      ],
      "metadata": {
        "id": "uQtJAIukL2Tw"
      }
    },
    {
      "cell_type": "code",
      "source": [
        "def methode_trapezes(f,debut,fin,n):\n",
        "  x = np.linspace(debut,fin,n)\n",
        "  y = f(x)\n",
        "  aire_trapezes = (y[:-1]+y[1:])/2 * (fin-debut)/n\n",
        "  \n",
        "  return sum(aire_trapezes)"
      ],
      "metadata": {
        "id": "7g3nWJ3cFY2S"
      },
      "execution_count": null,
      "outputs": []
    },
    {
      "cell_type": "markdown",
      "source": [
        "### Comparaison des méthodes en dimension 1 sur un calcul intégral"
      ],
      "metadata": {
        "id": "thiv3yhxMLKp"
      }
    },
    {
      "cell_type": "markdown",
      "source": [
        "Nous choisissons de comparer nos deux méthodes (Monte Carlo et trapèzes) sur le calcul intégral de $x\\rightarrow e^x$ sur $[-1,1]$. Pour Monte Carlo, nous ne faisons qu'un seul lancer ici, cela illustre la variance de cette méthode. Le résultat théorique est $2\\sinh(1)$."
      ],
      "metadata": {
        "id": "h4qQPKau5IxT"
      }
    },
    {
      "cell_type": "code",
      "source": [
        "debut = -1\n",
        "fin = 1\n",
        "\n",
        "N = 9\n",
        "I_rect = []\n",
        "I_MC = []\n",
        "Puissance = []\n",
        "\n",
        "for i in range(2,N):\n",
        "  Puissance.append(i)\n",
        "  I_rect.append(methode_trapezes(lambda x : np.exp(x),debut,fin,10**i))\n",
        "  I_MC.append(MC1(lambda x : np.exp(x),debut,fin,10**i))\n",
        "\n",
        "figure()\n",
        "plot(Puissance,I_rect,\"red\")\n",
        "plot(Puissance,I_MC)\n",
        "plot([2,N-1],[2*np.sinh(1),2*np.sinh(1)],\"green\")\n",
        "legend([\"Trapèzes\",\"Monte Carlo\",\"Valeur théorique\"])\n",
        "\n",
        "title(\"Représentation des erreurs en fonction de la puissance de 10 de nombres de points utilisés(en dimension d = 2)\")"
      ],
      "metadata": {
        "id": "7l1L8_yRs584",
        "colab": {
          "base_uri": "https://localhost:8080/",
          "height": 298
        },
        "outputId": "21168fe6-dd5d-4cb9-9883-257af6ef709c"
      },
      "execution_count": null,
      "outputs": [
        {
          "output_type": "execute_result",
          "data": {
            "text/plain": [
              "Text(0.5, 1.0, 'Représentation des erreurs en fonction de la puissance de 10 de nombres de points utilisés(en dimension d = 2)')"
            ]
          },
          "metadata": {},
          "execution_count": 43
        },
        {
          "output_type": "display_data",
          "data": {
            "text/plain": [
              "<Figure size 432x288 with 1 Axes>"
            ],
            "image/png": "[encoded data removed]"
          },
          "metadata": {
            "needs_background": "light"
          }
        }
      ]
    },
    {
      "cell_type": "markdown",
      "source": [
        "**Conclusion en dimension 1** : les méthodes numériques usuelles sont assez efficaces par rapport à la méthode de Monte Carlo.\n",
        "\n",
        "C'est pourquoi nous nous intéressons dans la partie suivante au calcul intégral pour des fonctions définies sur des espaces de dimension supérieure.\n"
      ],
      "metadata": {
        "id": "EyZTB6ighEeN"
      }
    },
    {
      "cell_type": "markdown",
      "source": [
        "## c) Calcul intégral numérique en dimension d"
      ],
      "metadata": {
        "id": "ni4b5GFLV1XE"
      }
    },
    {
      "cell_type": "markdown",
      "source": [
        "### **Monte Carlo** en dimension *d*"
      ],
      "metadata": {
        "id": "O4ZUEJmSXixV"
      }
    },
    {
      "cell_type": "code",
      "source": [
        " # n le nombre de points tirés au hasard ; #support est un tableau de dimension d x 2, ou sur la ligne i, on a le début et la fin du support selon l'axe i"
      ],
      "metadata": {
        "id": "hqdjmMtlYypZ"
      },
      "execution_count": null,
      "outputs": []
    },
    {
      "cell_type": "code",
      "source": [
        "#calcul de l'hypersurface du support"
      ],
      "metadata": {
        "id": "3VHwanGxY4GM"
      },
      "execution_count": null,
      "outputs": []
    },
    {
      "cell_type": "code",
      "source": [
        "def MC(f,support,n):\n",
        "  d = len(support) #dimension de l'espace\n",
        "  X = np.empty((d,n)) #array pour l'échantillon de points du support de f\n",
        "\n",
        "  for i in range(d):\n",
        "    X[i] = (support[i][1] - support[i][0])*rand(n) + support[i][0]\n",
        "  X = X.T\n",
        "\n",
        "  Y = np.apply_along_axis(f,1,X)\n",
        "\n",
        "  V = np.exp(sum(np.log(support[:,1]-support[:,0]))) #hypersurface du support\n",
        "\n",
        "  return sum(Y)*V/n"
      ],
      "metadata": {
        "id": "h_3QnFsAV5ie"
      },
      "execution_count": null,
      "outputs": []
    },
    {
      "cell_type": "code",
      "source": [
        "support = np.array([[-1,1],[-1,1]])\n",
        "\n",
        "d = 2\n",
        "n = 10\n",
        "\n",
        "X = (support[0][1]-support[0][0])*rand(d,n) + support[0][0]\n",
        "\n",
        "print(X)"
      ],
      "metadata": {
        "colab": {
          "base_uri": "https://localhost:8080/"
        },
        "id": "GeJR3L3ee8of",
        "outputId": "ae8a8ce0-8bec-4c70-af7a-2e786a5f16a6"
      },
      "execution_count": null,
      "outputs": [
        {
          "output_type": "stream",
          "name": "stdout",
          "text": [
            "[[-0.38675815 -0.01167437 -0.18425774 -0.58715789  0.87184745 -0.81445785\n",
            "  -0.68881883  0.75874879  0.71790907 -0.8769566 ]\n",
            " [ 0.24848916  0.05122871  0.03930476 -0.50395067 -0.69817611 -0.91555843\n",
            "   0.958194   -0.86112393  0.97744139  0.10529602]]\n"
          ]
        }
      ]
    },
    {
      "cell_type": "markdown",
      "source": [
        "### **Méthodes des rectangles** en dimension *d*\n",
        "\n"
      ],
      "metadata": {
        "id": "JL13S9nHggfg"
      }
    },
    {
      "cell_type": "markdown",
      "source": [
        "Nous avons en dimension 1 utilisé la méthode des trapèzes. Pour généraliser en dimension d, nous utilisons la méthode des rectangles, facilement transposable en dimension d :\n",
        "- Nous découpons l'hypercube en $n$ petits hypercubes.\n",
        "- Nous évaluons pour chaque hypercube sa valeur en son sommet dont chaque coordonnée est la plus petite valeur atteinte dans l'hypercube.\n",
        "- Nous approximons finalement l'intégrale de la fonction sur l'hypercube principal par la **valeur moyenne** de la fonction sur ses hypercubes, multiplié par le **volume** de l'hypercube."
      ],
      "metadata": {
        "id": "iiTPVyup5yb9"
      }
    },
    {
      "cell_type": "code",
      "source": [
        "def methode_rectangle_d(fonc,support,n):\n",
        "  d = len(support)\n",
        "  n_par_axe = int(n**(1/d))\n",
        "\n",
        "  # Création du array X, dont chaque élément et un point de R^d où la fonction f est à évaluer\n",
        "  X = np.linspace(support[0][0],support[0][1],n_par_axe)\n",
        "  for i in range(1,d): #réalisation du produit cartésien\n",
        "   X = np.meshgrid(X,np.linspace(support[i][0],support[i][1],n_par_axe))\n",
        "  X = np.array(X).reshape(2,-1).T\n",
        "\n",
        "  # Calculs finaux pour la méthode des rectangles\n",
        "  Y = np.apply_along_axis(fonc,1,X)\n",
        "  V = np.exp(sum(np.log(support[:,1]-support[:,0])))\n",
        "\n",
        "  return sum(Y)*V/n_par_axe**d"
      ],
      "metadata": {
        "id": "PhlRnm06hIY0"
      },
      "execution_count": null,
      "outputs": []
    },
    {
      "cell_type": "markdown",
      "source": [
        "### **Comparaison des méthodes** en dimension *d*"
      ],
      "metadata": {
        "id": "JSBF8f5UgBuY"
      }
    },
    {
      "cell_type": "markdown",
      "source": [
        "Il s'agit de comparer les deux méthodes pour le calcul de la fonction $x \\in \\mathbb{R}^d\\rightarrow (\\sum_{i=1}^d x_i)^2$."
      ],
      "metadata": {
        "id": "-tQ9ErPRgGKU"
      }
    },
    {
      "cell_type": "code",
      "source": [
        "def carre_somme(vecteur):\n",
        "  return (sum(vecteur))**2"
      ],
      "metadata": {
        "id": "Zw2ZMTNqbccr"
      },
      "execution_count": null,
      "outputs": []
    },
    {
      "cell_type": "markdown",
      "source": [
        "Pour cette comparaison, notre support est $[-1,1]^d$."
      ],
      "metadata": {
        "id": "FtR1hNb94_WJ"
      }
    },
    {
      "cell_type": "markdown",
      "source": [
        "#### Calcul théorique\n",
        "\n",
        "On note ce qu'on veut calculer $I_d = \\int_{[-1,1]^d}(\\sum_{i=1}^d x_i)^2dx_1...dx_d$.\n",
        "\n",
        "Or $(\\sum_{i=1}^d x_i)^2 = \\sum_{i=1}^d x_i  +2\\sum_{i<j} x_ix_j$.\n",
        "\n",
        "Le terme de droite est impair en $x_i$ et on intègre sur un intervalle symétrique par rapport à 0, donc l'intervalle de ce terme est nulle.\n",
        "\n",
        "Donc $I_d = \\int_{[-1,1]^d}\\sum_{i=1}^d (x_i)^2dx_1...dx_d = \\sum_{i=1}^d \\int_{[-1,1]^d}(x_i)^2dx_1...dx_d$.\n",
        "\n",
        "On a pu intervertir somme et intégrale, car c'est une somme finie.\n",
        "\n",
        "Soit $i\\in [1,d]$.\n",
        "\n",
        "On veut intégrer le i-ème terme de la somme. Le théorème de Fubini donne qu'on peut intégrer dans l'ordre des variables qu'on veut.\n",
        "\n",
        "On intègre d'abord par rapport à $dx_i$ :\n",
        "$$\\int_{[-1,1]}x_i^2dx_i=\\frac{2}{3}$$\n",
        "\n",
        "D'où : $$\\int_{[-1,1]^d}(x_i)^2dx_1...dx_d = \\frac{2^d}{3}$$\n",
        "\n",
        "Donc : $$\\boxed{I_d=d*\\frac{2^d}{3}}$$.\n"
      ],
      "metadata": {
        "id": "QyefN0EtjykQ"
      }
    },
    {
      "cell_type": "code",
      "source": [
        "def calcul_theorique_carre_somme(d):\n",
        "  return d*2**d/3"
      ],
      "metadata": {
        "id": "p9Ld4YpuqUFS"
      },
      "execution_count": null,
      "outputs": []
    },
    {
      "cell_type": "code",
      "source": [
        "def support_d(d):\n",
        "  return np.array([[-1,1]]*d)"
      ],
      "metadata": {
        "id": "w4q281AzAIBC"
      },
      "execution_count": null,
      "outputs": []
    },
    {
      "cell_type": "markdown",
      "source": [
        "#### Complexité des algorithmes : en O(n)"
      ],
      "metadata": {
        "id": "E6LmlAt1Pn4t"
      }
    },
    {
      "cell_type": "code",
      "source": [
        "def temps_res(methode,fonc,support,n): #fonction qui renvoie le temps d'exécuation et le résultat \n",
        "                        #d'une méthode pour une fonction, un support et un nombre de points donnés.\n",
        "  t0 = time.time()\n",
        "  res = methode(fonc,support,n)\n",
        "  t1 = time.time()\n",
        "\n",
        "  t = t1 - t0\n",
        "\n",
        "  return (t,res)"
      ],
      "metadata": {
        "id": "h7BECkJHMcep"
      },
      "execution_count": null,
      "outputs": []
    },
    {
      "cell_type": "code",
      "source": [
        "N = 7\n",
        "\n",
        "support = support_d(2)\n",
        "X = []\n",
        "Y_rect = []\n",
        "Y_MC = []\n",
        "for i in range(2,N):\n",
        "  X.append(i)\n",
        "  Y_rect.append(temps_res(methode_rectangle_d,carre_somme,support,10**i)[0])\n",
        "  Y_MC.append(temps_res(MC,carre_somme,support,10**i)[0])\n",
        "\n",
        "\n",
        "plot(X,Y_rect,\"red\")\n",
        "plot(X,Y_MC)\n",
        "legend([\"Rectangles\",\"Monte Carlo\"])\n",
        "title(\"Temps d'exécution des méthodes pour la fonction carre_somme en fonction du nombre de points $n$ d'évaluations (en dimension d=2)\")\n",
        "xlabel(\"Nombre de points (en puissance de 10)\")\n",
        "ylabel(\"Temps (en échelle log)\")\n",
        "yscale(\"log\")"
      ],
      "metadata": {
        "id": "o3bCdpBVnH7O",
        "colab": {
          "base_uri": "https://localhost:8080/",
          "height": 297
        },
        "outputId": "2c2d8e8f-c678-400f-850b-830a89551c87"
      },
      "execution_count": null,
      "outputs": [
        {
          "output_type": "display_data",
          "data": {
            "text/plain": [
              "<Figure size 432x288 with 1 Axes>"
            ],
            "image/png": "[encoded data removed]"
          },
          "metadata": {
            "needs_background": "light"
          }
        }
      ]
    },
    {
      "cell_type": "markdown",
      "source": [
        "*Remarque* : nous aurions préféré passer l'échelle des abscisses en échelle linéaire, mais nous n'avons pas trouvé de solution. C'est pourquoi, pour contourner ce problème, nous avons mis l'échelle du temps en ordonnées en échelle log."
      ],
      "metadata": {
        "id": "vzh2bOSZ9GLg"
      }
    },
    {
      "cell_type": "markdown",
      "source": [
        "**Conclusion.** On en déduit que les deux méthodes ont des complexités linéaires du nombre de points. (Nous pouvons penser à la méthode de Gauss Legendre qui n'est pas du tout linéaire en le nombre de points évalués, car dans cette méthode il s'agit de calculer dans un premier temps les racines d'une certain famille de polynômes orthogonaux).\n",
        "\n",
        "Ici, pour comparer nos fonctions, il s'agit donc surtout de comparer leurs résultats en termes d'erreur."
      ],
      "metadata": {
        "id": "U7Xo8crMpO96"
      }
    },
    {
      "cell_type": "markdown",
      "source": [
        "#### Erreurs des méthodes"
      ],
      "metadata": {
        "id": "mQT75hoHm6w9"
      }
    },
    {
      "cell_type": "code",
      "source": [
        "d = 2\n",
        "support = support_d(d)\n",
        "I_rect = []\n",
        "I_MC = []\n",
        "Puissance = []\n",
        "\n",
        "for i in range(2,6):\n",
        "  Puissance.append(i)\n",
        "  I_rect.append(methode_rectangle_d(carre_somme,support,10**i))\n",
        "  I_MC.append(MC(carre_somme,support,10**i))\n",
        "\n",
        "figure()\n",
        "plot(Puissance,I_rect,\"red\")\n",
        "plot(Puissance,I_MC)\n",
        "plot([2,5],[calcul_theorique_carre_somme(d),calcul_theorique_carre_somme(d)],\"green\")\n",
        "legend([\"Rectangles\",\"Monte Carlo\",\"Valeur théorique\"])\n",
        "title(\"Représentation des erreurs en fonction du nombre de points utilisés (en dimension d = 2)\")\n",
        "xlabel(\"Nombre de points (en puissance de 10)\")\n",
        "ylabel(\"Valeur calculée de l'intégrale\")\n",
        "\n"
      ],
      "metadata": {
        "id": "4PPwKrZ__nNB",
        "colab": {
          "base_uri": "https://localhost:8080/",
          "height": 312
        },
        "outputId": "22fdb6c7-35ce-4b69-813c-a03791526e11"
      },
      "execution_count": null,
      "outputs": [
        {
          "output_type": "execute_result",
          "data": {
            "text/plain": [
              "Text(0, 0.5, \"Valeur calculée de l'intégrale\")"
            ]
          },
          "metadata": {},
          "execution_count": 54
        },
        {
          "output_type": "display_data",
          "data": {
            "text/plain": [
              "<Figure size 432x288 with 1 Axes>"
            ],
            "image/png": "[encoded data removed]"
          },
          "metadata": {
            "needs_background": "light"
          }
        }
      ]
    },
    {
      "cell_type": "markdown",
      "source": [
        "#### Complexité en dimension"
      ],
      "metadata": {
        "id": "nhjHk8rA_AE9"
      }
    },
    {
      "cell_type": "code",
      "source": [
        "D = 7\n",
        "\n",
        "X = []\n",
        "Y_rect = []\n",
        "Y_MC = []\n",
        "for i in range(2,D):\n",
        "  X.append(i)\n",
        "  Y_rect.append(temps_res(methode_rectangle_d,carre_somme,support_d(i),100000)[0])\n",
        "  Y_MC.append(temps_res(MC,carre_somme,support_d(i),100000)[0])\n",
        "\n",
        "\n",
        "plot(X,Y_rect,\"red\")\n",
        "plot(X,Y_MC)\n",
        "legend([\"Rectangles\",\"Monte Carlo\"])\n",
        "\n",
        "title(\"Représentation du temps d'exécution des méthodes en fonction de la dimension d de l'espace sur lequel on intègre carre_somme\")"
      ],
      "metadata": {
        "id": "HDv4mOB8P2-y",
        "colab": {
          "base_uri": "https://localhost:8080/",
          "height": 298
        },
        "outputId": "7cf62f02-a7ef-4c38-e415-1a3bbf9bcdf8"
      },
      "execution_count": null,
      "outputs": [
        {
          "output_type": "execute_result",
          "data": {
            "text/plain": [
              "Text(0.5, 1.0, \"Représentation du temps d'exécution des méthodes en fonction de la dimension d de l'espace sur lequel on intègre carre_somme\")"
            ]
          },
          "metadata": {},
          "execution_count": 55
        },
        {
          "output_type": "display_data",
          "data": {
            "text/plain": [
              "<Figure size 432x288 with 1 Axes>"
            ],
            "image/png": "[encoded data removed]"
          },
          "metadata": {
            "needs_background": "light"
          }
        }
      ]
    },
    {
      "cell_type": "markdown",
      "source": [
        "La méthode des rectangles semble perdre d'autant plus d'efficacité que la dimension augmente."
      ],
      "metadata": {
        "id": "Ip7yKjvK_V_A"
      }
    },
    {
      "cell_type": "markdown",
      "source": [
        "#### Théorème d'invariance de l'erreur en fonction du nombre de points pour Monte Carlo"
      ],
      "metadata": {
        "id": "saLkR3NXKfe1"
      }
    },
    {
      "cell_type": "markdown",
      "source": [
        "Par ailleurs, un théorème donne que la méthode de Monte Carlo a besoin d'un nombre constant de points pour avoir une erreur absolue maximale fixée, **indépendamment de la dimension dans laquelle on se trouve.**\n",
        "\n",
        "C'est ce que nous illustrons avec le graphique suivant."
      ],
      "metadata": {
        "id": "obd6vkUbkCzg"
      }
    },
    {
      "cell_type": "code",
      "source": [
        "def n_pour_erreurfixe(methode,epsilon,d) : #renvoie le nombre de points nécessaires pour une erreur absolue inférieure à epsilon \n",
        "  n = 100\n",
        "  support = support_d(d)\n",
        "  erreur = 100\n",
        "\n",
        "  while erreur>epsilon:\n",
        "    n *= 10\n",
        "    erreur = abs(calcul_theorique_carre_somme(d) - MC(carre_somme,support,n))\n",
        "\n",
        "  return n"
      ],
      "metadata": {
        "id": "H9tMKaLXd3ES"
      },
      "execution_count": null,
      "outputs": []
    },
    {
      "cell_type": "code",
      "source": [
        "#Représentation graphique\n",
        "\n",
        "D = 7\n",
        "epsilon = 10**-2\n",
        "N = 10 #nombre d'échantillons pour la Monte Carlo\n",
        "\n",
        "X = []\n",
        "Y_rect = []\n",
        "Y_MC = []\n",
        "\n",
        "for i in range(1,D): #on fait croître la dimension\n",
        "  X.append(i)\n",
        "  Y_MC_echantillon = np.empty(N)\n",
        "  \n",
        "  for j in range(N):\n",
        "    Y_MC_echantillon[j] = n_pour_erreurfixe(MC,epsilon,d)\n",
        "  \n",
        "  Y_MC.append(np.mean(Y_MC_echantillon))\n",
        "\n",
        "\n",
        "plot(X,Y_MC)\n",
        "plot([1,D-1],[1,1])\n",
        "legend([\"Monte Carlo\",\"1\"])\n",
        "title(\"Nombre moyen de points nécessaires pour avoir une erreur absolue inférieure à epsilon\")\n",
        "yscale(\"log\")"
      ],
      "metadata": {
        "colab": {
          "base_uri": "https://localhost:8080/",
          "height": 281
        },
        "id": "MNu9jd3ldWoQ",
        "outputId": "396b4d28-0af0-4538-d7d4-fc7aece950cb"
      },
      "execution_count": null,
      "outputs": [
        {
          "output_type": "display_data",
          "data": {
            "text/plain": [
              "<Figure size 432x288 with 1 Axes>"
            ],
            "image/png": "[encoded data removed]"
          },
          "metadata": {
            "needs_background": "light"
          }
        }
      ]
    },
    {
      "cell_type": "markdown",
      "source": [
        "On voit que le nombre de points n'augmente pas avec la dimension."
      ],
      "metadata": {
        "id": "R7n7Scf57Uza"
      }
    },
    {
      "cell_type": "markdown",
      "source": [
        "#### Erreur à temps d'exécution fixé\n"
      ],
      "metadata": {
        "id": "Q8CgjM6dLbd_"
      }
    },
    {
      "cell_type": "markdown",
      "source": [
        "Comparons dans cette partie les erreurs des deux méthodes, à temps d'exécution fixé, dans des espaces de plus \"grande\" dimension (jusquà $d = 7$).\n",
        "\n",
        "Comme la méthode de Monte Carlo n'est pas déterministe, réalisons $N = 100$ calculs avec cette méthode et prennons l'erreur moyenne commise pour la représentation graphique."
      ],
      "metadata": {
        "id": "3z-eUDCk_kkE"
      }
    },
    {
      "cell_type": "code",
      "source": [
        "def erreur(methode,T_max,d) : #renvoie l'erreur absolue de la méthode pour un temps d'exécution maximal T_max \n",
        "                              #pour une dimension donnée d\n",
        "  T = 0\n",
        "  n = 100\n",
        "  support = support_d(d)\n",
        "  res = None\n",
        "\n",
        "  while T<T_max:\n",
        "    previous_res = res\n",
        "    n *= 10\n",
        "    T,res = temps_res(methode,carre_somme,support,n)\n",
        "\n",
        "  return abs(calcul_theorique_carre_somme(d) - res)"
      ],
      "metadata": {
        "id": "A1LdvEDTnH9b"
      },
      "execution_count": null,
      "outputs": []
    },
    {
      "cell_type": "code",
      "source": [
        "#Représentation graphique\n",
        "D = 7\n",
        "T_max = 0.1\n",
        "N = 10 #nombre d'échantillons pour la Monte Carlo\n",
        "\n",
        "X = []\n",
        "Y_rect = []\n",
        "Y_MC = []\n",
        "\n",
        "for i in range(1,D):\n",
        "  X.append(i)\n",
        "  Y_rect.append(erreur(methode_rectangle_d,T_max,i))\n",
        "  \n",
        "  Y_MC_echantillon = np.empty(N)\n",
        "  for j in range(N):\n",
        "    Y_MC_echantillon[j] = erreur(MC,T_max,i)\n",
        "  \n",
        "  Y_MC.append(np.mean(Y_MC_echantillon))\n",
        "\n",
        "\n",
        "scatter(X,Y_rect,c=\"red\")\n",
        "scatter(X,Y_MC)\n",
        "legend([\"Rectangle\",\"Monte Carlo\"])\n",
        "plot([1,D],[1,1])\n",
        "title(\"Erreur absolue des deux méthodes en fonction de la dimension de l'espace\")\n",
        "yscale(\"log\")\n"
      ],
      "metadata": {
        "id": "nrsQ17CjnH_x",
        "colab": {
          "base_uri": "https://localhost:8080/",
          "height": 281
        },
        "outputId": "30b67beb-760d-4ccb-f59a-b716279ae098"
      },
      "execution_count": null,
      "outputs": [
        {
          "output_type": "display_data",
          "data": {
            "text/plain": [
              "<Figure size 432x288 with 1 Axes>"
            ],
            "image/png": "[encoded data removed]"
          },
          "metadata": {
            "needs_background": "light"
          }
        }
      ]
    },
    {
      "cell_type": "markdown",
      "source": [
        "Le théorème d'invariance de l'erreur en fonction du nombre de points pour Monte Carlo (vu dans la sous-partie précédente) n'est pas incohérent avec ce qu'on trouve ici.\n",
        "\n",
        "En effet, le temps d'exécution de l'algorithme de Monte Carlo est  tout de même aussi influé par la dimension : un point en dimension d est plus couteux, car il a besoin de d coordonnées pour être défini. (Cf l'algorithme : on a une boucle for parcourue d fois pour déterminer les n points.)"
      ],
      "metadata": {
        "id": "6Sl1rf2rLRiy"
      }
    },
    {
      "cell_type": "markdown",
      "source": [
        "**Conclusion finale**\n",
        "\n",
        "  Nous constatons que les deux méthodes ont des erreurs absolues croissantes de la dimension de l'espace.\n",
        "\n",
        "Cependant; leur rythme de croissance est différent. Pour la méthode des rectangles, à partir de de la dimension 3, l'erreur croît de manière exponentielle, tandis que l'erreur de la méthode de Monte Carlo croît de manière plus faible que d'une manière exponentielle.\n",
        "\n",
        "C'est une illustration du *fléau de la dimension*, les méthodes numériques usuelles ont des complexités exponentielles de la dimension.  \n",
        "\n",
        "  \n",
        "    \n",
        "\n",
        "  En bref, pour une erreur absolue fixée:\n",
        "* Monte Carlo nécessite un nombre de points $n$ constant, mais dont la définition nécessite plus de temps avec la dimension (car un point y est défini par ses d coordonnées.)\n",
        "* la méthode des rectangles a besoin d'un plus grand nombres de points n (fléau de la dimension) et comme Monte Carlo, subit une augmentation du temps de définition de ses points.\n"
      ],
      "metadata": {
        "id": "3mngdwatAwzk"
      }
    },
    {
      "cell_type": "code",
      "source": [
        "def f_naive(x,y):\n",
        "  return x*y\n",
        "\n",
        "def f(X):\n",
        "  return X[0]*X[1]"
      ],
      "metadata": {
        "id": "IgR-IhV7lya-"
      },
      "execution_count": null,
      "outputs": []
    },
    {
      "cell_type": "markdown",
      "source": [],
      "metadata": {
        "id": "PjjNWy5xmQim"
      }
    },
    {
      "cell_type": "markdown",
      "source": [
        "# Démonstration d'une fonction pour la soutenance"
      ],
      "metadata": {
        "id": "iZYQ8vKhi4eK"
      }
    },
    {
      "cell_type": "code",
      "source": [
        "def fonc_soutenance(x):\n",
        "  return x\n",
        "\n",
        "print(MC(fonc_soutenance,support_d(1),10**5))"
      ],
      "metadata": {
        "id": "ZbsRUpMHpKdv",
        "colab": {
          "base_uri": "https://localhost:8080/"
        },
        "outputId": "e570fa3c-f808-4737-e1a4-2ec76c49b064"
      },
      "execution_count": null,
      "outputs": [
        {
          "output_type": "stream",
          "name": "stdout",
          "text": [
            "[0.00929302]\n"
          ]
        }
      ]
    },
    {
      "cell_type": "code",
      "source": [
        "L = []\n",
        "\n",
        "for i in range(10**4):\n",
        "  \n",
        "  Z = 0\n",
        "  for j in range(1,10**3):\n",
        "    B =  1*(rand()<0.5)\n",
        "    Z+= B/2**j\n",
        "  \n",
        "  L.append(Z)\n",
        "\n",
        "hist(L)\n"
      ],
      "metadata": {
        "id": "bnGOjVz9D5Uh",
        "colab": {
          "base_uri": "https://localhost:8080/",
          "height": 369
        },
        "outputId": "5bd2c311-24d9-4f37-d1d9-4712974bd1ad"
      },
      "execution_count": null,
      "outputs": [
        {
          "output_type": "execute_result",
          "data": {
            "text/plain": [
              "(array([ 968., 1003., 1037.,  981., 1034.,  959.,  997., 1030., 1004.,\n",
              "         987.]),\n",
              " array([1.45690780e-04, 1.00125835e-01, 2.00105979e-01, 3.00086123e-01,\n",
              "        4.00066267e-01, 5.00046411e-01, 6.00026555e-01, 7.00006699e-01,\n",
              "        7.99986844e-01, 8.99966988e-01, 9.99947132e-01]),\n",
              " <a list of 10 Patch objects>)"
            ]
          },
          "metadata": {},
          "execution_count": 3
        },
        {
          "output_type": "display_data",
          "data": {
            "text/plain": [
              "<Figure size 432x288 with 1 Axes>"
            ],
            "image/png": "[encoded data removed]"
          },
          "metadata": {
            "needs_background": "light"
          }
        }
      ]
    }
  ]
}